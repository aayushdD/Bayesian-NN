{
 "cells": [
  {
   "cell_type": "code",
   "execution_count": 3,
   "id": "9d52151d-72ac-4fdf-8e6d-6ee58626cac2",
   "metadata": {},
   "outputs": [],
   "source": [
    "import numpy as np\n",
    "#from sklearn import datasets\n",
    "\n",
    "import torch\n",
    "import torch.nn as nn\n",
    "import torch.optim as optim\n",
    "\n",
    "import torchbnn as bnn\n",
    "import matplotlib.pyplot as plt\n",
    "%matplotlib inline"
   ]
  },
  {
   "cell_type": "code",
   "execution_count": 2,
   "id": "b5608861",
   "metadata": {},
   "outputs": [
    {
     "data": {
      "text/plain": [
       "True"
      ]
     },
     "execution_count": 2,
     "metadata": {},
     "output_type": "execute_result"
    }
   ],
   "source": [
    "torch.cuda.is_available()"
   ]
  },
  {
   "cell_type": "code",
   "execution_count": 4,
   "id": "086e6a60-7cac-44e6-95f3-75382b52bfd1",
   "metadata": {},
   "outputs": [],
   "source": [
    "import scipy.io\n",
    "mat = scipy.io.loadmat('Car_Dataset_hyst_10s_N1000_v3.mat')\n",
    "RV = mat['param'].T \n",
    "tin = mat['t']\n",
    "# # mat['resp_all'].shape\n",
    "xlow_all = mat['accel_LF'].T \n",
    "# mat = scipy.io.loadmat('DeepONet_degrading_data_v2.mat')\n",
    "#xhigh_all = mat['accel_HF'].T\n",
    "xhigh_all = mat['disp_HF'].T"
   ]
  },
  {
   "cell_type": "code",
   "execution_count": 5,
   "id": "27d98db0-0407-48df-b627-a8be32928cc6",
   "metadata": {},
   "outputs": [
    {
     "data": {
      "text/plain": [
       "dict_keys(['__header__', '__version__', '__globals__', 'accel_HF', 'accel_LF', 'disp_HF', 'disp_LF', 'p_mean', 'p_var', 'param', 't'])"
      ]
     },
     "execution_count": 5,
     "metadata": {},
     "output_type": "execute_result"
    }
   ],
   "source": [
    "mat.keys()"
   ]
  },
  {
   "cell_type": "code",
   "execution_count": 6,
   "id": "7525b81c-8e1e-4f70-84fc-30ded3b6be4c",
   "metadata": {},
   "outputs": [
    {
     "data": {
      "text/plain": [
       "(1000, 5)"
      ]
     },
     "execution_count": 6,
     "metadata": {},
     "output_type": "execute_result"
    }
   ],
   "source": [
    "mat['param'].T.shape"
   ]
  },
  {
   "cell_type": "code",
   "execution_count": 7,
   "id": "9657934d-f8b1-4607-a4ff-1edbb04d9b55",
   "metadata": {},
   "outputs": [],
   "source": [
    "mat = scipy.io.loadmat('road_surface.mat')\n",
    "w1 = mat['w1'] "
   ]
  },
  {
   "cell_type": "code",
   "execution_count": 8,
   "id": "4beaa0ae-92d7-4e53-8431-bafab7ba3813",
   "metadata": {},
   "outputs": [
    {
     "data": {
      "text/plain": [
       "(1, 601)"
      ]
     },
     "execution_count": 8,
     "metadata": {},
     "output_type": "execute_result"
    }
   ],
   "source": [
    "w1.shape"
   ]
  },
  {
   "cell_type": "code",
   "execution_count": 9,
   "id": "84decca5-8211-47f9-8099-9dbfce417d8d",
   "metadata": {},
   "outputs": [],
   "source": [
    "data_min = w1.min()\n",
    "data_max = w1.max()\n",
    "\n",
    "normalized_w1 = (w1 - data_min) / (data_max - data_min) * 2 - 1"
   ]
  },
  {
   "cell_type": "code",
   "execution_count": 10,
   "id": "3605a7fa-7039-4a72-b334-746240ff4e84",
   "metadata": {},
   "outputs": [],
   "source": [
    "data_min = xhigh_all.min()\n",
    "data_max = xhigh_all.max()\n",
    "\n",
    "normalized_xhigh_all = (xhigh_all - data_min) / (data_max - data_min) * 2 - 1"
   ]
  },
  {
   "cell_type": "code",
   "execution_count": 11,
   "id": "615a87df-2a82-4a1d-8ec4-32a7e6408a48",
   "metadata": {},
   "outputs": [
    {
     "data": {
      "text/plain": [
       "(601, 1000)"
      ]
     },
     "execution_count": 11,
     "metadata": {},
     "output_type": "execute_result"
    }
   ],
   "source": [
    "xhigh_all.shape"
   ]
  },
  {
   "cell_type": "code",
   "execution_count": 12,
   "id": "16db4e29-753c-4385-8353-6c6d9a063512",
   "metadata": {},
   "outputs": [
    {
     "data": {
      "text/plain": [
       "(1, 601)"
      ]
     },
     "execution_count": 12,
     "metadata": {},
     "output_type": "execute_result"
    }
   ],
   "source": [
    "tin.shape"
   ]
  },
  {
   "cell_type": "code",
   "execution_count": 13,
   "id": "a8b47ff3-8c37-4038-9a51-91d31a7cd098",
   "metadata": {},
   "outputs": [
    {
     "data": {
      "text/plain": [
       "(1, 601)"
      ]
     },
     "execution_count": 13,
     "metadata": {},
     "output_type": "execute_result"
    }
   ],
   "source": [
    "normalized_w1.shape"
   ]
  },
  {
   "cell_type": "code",
   "execution_count": 14,
   "id": "2d884701-ff3a-4e95-90c3-0f073ce79d33",
   "metadata": {},
   "outputs": [
    {
     "data": {
      "text/plain": [
       "(601,)"
      ]
     },
     "execution_count": 14,
     "metadata": {},
     "output_type": "execute_result"
    }
   ],
   "source": [
    "normalized_w1[0,:].shape"
   ]
  },
  {
   "cell_type": "code",
   "execution_count": 15,
   "id": "a2bce1bc-fb08-4b8e-ab7c-197d8dedf86b",
   "metadata": {},
   "outputs": [],
   "source": [
    "io=np.zeros((100,601,2))"
   ]
  },
  {
   "cell_type": "code",
   "execution_count": 16,
   "id": "afd772e9-eafe-45cf-81cb-43086e18aeb1",
   "metadata": {},
   "outputs": [],
   "source": [
    "io[0,:,0]=normalized_w1[0,:]"
   ]
  },
  {
   "cell_type": "code",
   "execution_count": 17,
   "id": "90886519-c0d3-422c-9d32-6a46b8d409fd",
   "metadata": {},
   "outputs": [
    {
     "data": {
      "text/plain": [
       "(601,)"
      ]
     },
     "execution_count": 17,
     "metadata": {},
     "output_type": "execute_result"
    }
   ],
   "source": [
    "io[0,:,0].shape"
   ]
  },
  {
   "cell_type": "code",
   "execution_count": 18,
   "id": "a078a4d0-a8a7-47da-b4c1-0290b4f421aa",
   "metadata": {},
   "outputs": [
    {
     "data": {
      "text/plain": [
       "(100, 601, 2)"
      ]
     },
     "execution_count": 18,
     "metadata": {},
     "output_type": "execute_result"
    }
   ],
   "source": [
    "io.shape"
   ]
  },
  {
   "cell_type": "code",
   "execution_count": 18,
   "id": "f8ddeadc-18d7-4b99-8193-0c5933e04191",
   "metadata": {},
   "outputs": [],
   "source": [
    "nt = 601 \n",
    "ni = 1000 # Number of parameter combinations \n",
    "nin = 7\n",
    "\n",
    "np.random.seed(0)\n",
    "io = np.zeros((ni,int(nt),nin))\n",
    "op = np.zeros((ni,int(nt))) \n",
    "# xlow_all = np.zeros((ni,int(nt)))\n",
    "# xhigh_all = np.zeros((ni,int(nt)))\n",
    "tmax = 10 # For training 10s data used\n",
    "\n",
    "\n",
    "for i in range(ni): \n",
    "    io[i,:,0] = (w1[0,:])\n",
    "    io[i,:,1] = -1.0+2*(tin-np.amin(tin))/(tmax-np.amin(tin))\n",
    "    \n",
    "    for j in range(5): \n",
    "        io[i,:,2+j] = -1.0+2*(RV[i,j]*np.ones((nt,))-np.amin(RV[:,j]))/(np.amax(RV[:,j])-np.amin(RV[:,j])) \n",
    "   \n",
    "#     op[i,:] = (-1.0+(xhigh_all[:,i]-xlow_all[:,i]))/2.0 # For BF training\n",
    "    op[i,:] = (-1.0+(xhigh_all[:,i]))/2.0 # For HF training"
   ]
  },
  {
   "cell_type": "code",
   "execution_count": 19,
   "id": "c005646d-2efa-4b6b-a4dd-272c3b75f215",
   "metadata": {},
   "outputs": [
    {
     "data": {
      "text/plain": [
       "(1000, 601, 7)"
      ]
     },
     "execution_count": 19,
     "metadata": {},
     "output_type": "execute_result"
    }
   ],
   "source": [
    "io.shape"
   ]
  },
  {
   "cell_type": "code",
   "execution_count": 510,
   "id": "a4b9bf75-cdb1-4164-9ca6-740bd8f8b8d1",
   "metadata": {},
   "outputs": [
    {
     "data": {
      "text/plain": [
       "(1000, 5)"
      ]
     },
     "execution_count": 510,
     "metadata": {},
     "output_type": "execute_result"
    }
   ],
   "source": [
    "RV.shape"
   ]
  },
  {
   "cell_type": "markdown",
   "id": "48f38ef3-6ebe-49ab-8bb1-10e110b03010",
   "metadata": {},
   "source": [
    "### Without Stiffness"
   ]
  },
  {
   "cell_type": "code",
   "execution_count": 19,
   "id": "2d72f354-4db9-441d-af64-b9df763606dc",
   "metadata": {},
   "outputs": [],
   "source": [
    "import os\n",
    "from datetime import datetime\n",
    "direct= os.path.join(os.getcwd(),'logs')\n",
    "today_date = datetime.now().strftime('%Y-%m-%d')"
   ]
  },
  {
   "cell_type": "code",
   "execution_count": 20,
   "id": "f4cfd205-7a99-4a91-ab24-dbd842a9d582",
   "metadata": {},
   "outputs": [],
   "source": [
    "nt = 601 \n",
    "ni = 1000 # Number of parameter combinations \n",
    "nin = 2\n",
    "\n",
    "np.random.seed(0)\n",
    "io = np.zeros((ni,int(nt),nin))\n",
    "op = np.zeros((ni,int(nt))) \n",
    "# xlow_all = np.zeros((ni,int(nt)))\n",
    "# xhigh_all = np.zeros((ni,int(nt)))\n",
    "tmax = 10 # For training 10s data used\n",
    "\n",
    "\n",
    "for i in range(ni): \n",
    "    io[i,:,0] = normalized_w1[0,:]\n",
    "    io[i,:,1] = -1.0+2*(tin-np.amin(tin))/(tmax-np.amin(tin))   \n",
    "#     op[i,:] = (-1.0+(xhigh_all[:,i]-xlow_all[:,i]))/2.0 # For BF training\n",
    "    op[i,:] = normalized_xhigh_all[:,i] # For HF training\n",
    "    #op[i,:] = xhigh_all[:,i]\n",
    "  "
   ]
  },
  {
   "cell_type": "code",
   "execution_count": 21,
   "id": "07767338",
   "metadata": {},
   "outputs": [
    {
     "data": {
      "text/plain": [
       "[<matplotlib.lines.Line2D at 0x18ab8afc6a0>]"
      ]
     },
     "execution_count": 21,
     "metadata": {},
     "output_type": "execute_result"
    },
    {
     "data": {
      "image/png": "[encoded data removed]",
      "text/plain": [
       "<Figure size 640x480 with 1 Axes>"
      ]
     },
     "metadata": {},
     "output_type": "display_data"
    }
   ],
   "source": [
    "plt.plot(op[1,:])"
   ]
  },
  {
   "cell_type": "code",
   "execution_count": 22,
   "id": "164dfcb2-a49d-439d-95cd-0e483ebf1c1f",
   "metadata": {},
   "outputs": [
    {
     "data": {
      "text/plain": [
       "[<matplotlib.lines.Line2D at 0x18ab8b29b20>]"
      ]
     },
     "execution_count": 22,
     "metadata": {},
     "output_type": "execute_result"
    },
    {
     "data": {
      "image/png": "[encoded data removed]",
      "text/plain": [
       "<Figure size 640x480 with 1 Axes>"
      ]
     },
     "metadata": {},
     "output_type": "display_data"
    }
   ],
   "source": [
    "plt.plot(io[1,:,1])"
   ]
  },
  {
   "cell_type": "code",
   "execution_count": 23,
   "id": "4c5c455b-9585-4ea9-a051-6e78693fa0cd",
   "metadata": {},
   "outputs": [
    {
     "data": {
      "text/plain": [
       "(1000, 601, 2)"
      ]
     },
     "execution_count": 23,
     "metadata": {},
     "output_type": "execute_result"
    }
   ],
   "source": [
    "io.shape"
   ]
  },
  {
   "cell_type": "code",
   "execution_count": 24,
   "id": "14c8d4c2-955e-4e8e-b309-2559b711e25f",
   "metadata": {},
   "outputs": [
    {
     "data": {
      "text/plain": [
       "(1000, 601)"
      ]
     },
     "execution_count": 24,
     "metadata": {},
     "output_type": "execute_result"
    }
   ],
   "source": [
    "op.shape"
   ]
  },
  {
   "cell_type": "code",
   "execution_count": 234,
   "id": "f3aad0dd-dc67-47b1-b224-a60f07acdfd0",
   "metadata": {},
   "outputs": [],
   "source": [
    "io_train=io[:50,:,:]\n",
    "op_train=op[:50,:]"
   ]
  },
  {
   "cell_type": "code",
   "execution_count": 235,
   "id": "d961ab20-a1f0-496c-b8f6-727f42eebcac",
   "metadata": {},
   "outputs": [
    {
     "data": {
      "text/plain": [
       "(50, 601, 2)"
      ]
     },
     "execution_count": 235,
     "metadata": {},
     "output_type": "execute_result"
    }
   ],
   "source": [
    "io_train.shape"
   ]
  },
  {
   "cell_type": "code",
   "execution_count": 236,
   "id": "c764d5ed-03e2-429a-9f75-a5d46e6fdbd9",
   "metadata": {},
   "outputs": [
    {
     "data": {
      "text/plain": [
       "(50, 601)"
      ]
     },
     "execution_count": 236,
     "metadata": {},
     "output_type": "execute_result"
    }
   ],
   "source": [
    "op_train.shape"
   ]
  },
  {
   "cell_type": "code",
   "execution_count": 237,
   "id": "19bca4e6-abc6-4433-bb67-74a4139dfcf5",
   "metadata": {},
   "outputs": [],
   "source": [
    "x=io_train.reshape(-1,2)"
   ]
  },
  {
   "cell_type": "code",
   "execution_count": 238,
   "id": "76dbad45-8c15-418d-9013-ae682208f25a",
   "metadata": {},
   "outputs": [],
   "source": [
    "y=op_train.reshape(-1,1)"
   ]
  },
  {
   "cell_type": "code",
   "execution_count": 239,
   "id": "54d9c37b-81ab-4a1c-9489-d75a0e8f8938",
   "metadata": {},
   "outputs": [],
   "source": [
    "x=torch.tensor(x, dtype=torch.float32)\n",
    "y=torch.tensor(y, dtype=torch.float32)"
   ]
  },
  {
   "cell_type": "code",
   "execution_count": 241,
   "id": "36e95117-f28c-4a7e-a5ea-cac628842f72",
   "metadata": {},
   "outputs": [],
   "source": [
    "shuffled_indicies=torch.randperm(x.shape[0])"
   ]
  },
  {
   "cell_type": "code",
   "execution_count": 242,
   "id": "c6deaec7-f27f-48f8-9bd1-df15c0b43de5",
   "metadata": {},
   "outputs": [
    {
     "data": {
      "text/plain": [
       "tensor([17159, 11873, 17300,  ...,   148, 18300, 23777])"
      ]
     },
     "execution_count": 242,
     "metadata": {},
     "output_type": "execute_result"
    }
   ],
   "source": [
    "shuffled_indicies"
   ]
  },
  {
   "cell_type": "code",
   "execution_count": 243,
   "id": "f95bd5c1-df2b-4668-8165-a6e8a3e46267",
   "metadata": {},
   "outputs": [],
   "source": [
    "torch.save(shuffled_indicies,'indiciies')"
   ]
  },
  {
   "cell_type": "code",
   "execution_count": 244,
   "id": "ca426e1a-40ed-47bb-9d29-afce2943900b",
   "metadata": {},
   "outputs": [],
   "source": [
    "shuffled_indicies=torch.load('indiciies')"
   ]
  },
  {
   "cell_type": "code",
   "execution_count": 245,
   "id": "6c635307-accb-4168-8374-b23976307d22",
   "metadata": {},
   "outputs": [
    {
     "data": {
      "text/plain": [
       "torch.Size([30050])"
      ]
     },
     "execution_count": 245,
     "metadata": {},
     "output_type": "execute_result"
    }
   ],
   "source": [
    "shuffled_indicies.shape"
   ]
  },
  {
   "cell_type": "code",
   "execution_count": 246,
   "id": "791d4cac-c433-4416-8444-617b7d1a8222",
   "metadata": {},
   "outputs": [],
   "source": [
    "x_torch=x[shuffled_indicies]"
   ]
  },
  {
   "cell_type": "code",
   "execution_count": 247,
   "id": "f29d8e55-b468-46f1-8e10-aa66e2d904cd",
   "metadata": {},
   "outputs": [],
   "source": [
    "y_torch=y[shuffled_indicies]"
   ]
  },
  {
   "cell_type": "code",
   "execution_count": 259,
   "id": "6eb78300-16ce-4fa8-8fd1-92f7e3d25e68",
   "metadata": {},
   "outputs": [],
   "source": [
    "model_car = nn.Sequential(\n",
    "    bnn.BayesLinear(prior_mu=0, prior_sigma=1, in_features=2, out_features=100),\n",
    "    nn.BatchNorm1d(50),\n",
    "    nn.ReLU(),\n",
    "    bnn.BayesLinear(prior_mu=0, prior_sigma=1, in_features=100, out_features=1),\n",
    "    nn.BatchNorm1d(1)\n",
    ")"
   ]
  },
  {
   "cell_type": "code",
   "execution_count": 388,
   "id": "2e9a6d47-f2de-4961-bed5-4deb8c6e5d1e",
   "metadata": {},
   "outputs": [],
   "source": [
    "import torch.nn as nn\n",
    "\n",
    "# Define the deterministic neural network\n",
    "model_car = nn.Sequential(\n",
    "    nn.Linear(in_features=2, out_features=50),  # Replace BayesLinear with Linear\n",
    "    nn.BatchNorm1d(50),\n",
    "    nn.Tanh(),\n",
    "    nn.Linear(in_features=50, out_features=1),  # Replace BayesLinear with Linear\n",
    "    nn.BatchNorm1d(1)\n",
    ")\n"
   ]
  },
  {
   "cell_type": "code",
   "execution_count": 389,
   "id": "e6236346-601c-4b7d-99f8-35b606e39885",
   "metadata": {},
   "outputs": [],
   "source": [
    "bnn_parameters = {\n",
    "        \"prior_mu\": 0.0,\n",
    "        \"prior_sigma\": 1,\n",
    "        \"posterior_mu_init\": 0.0,\n",
    "        \"posterior_rho_init\": 0.0,\n",
    "        \"type\": \"Reparameterization\",  # Flipout or Reparameterization\n",
    "        \"moped_enable\": True,  # True to initialize mu/sigma from the pretrained dnn weights\n",
    "        \"moped_delta\": 0.5,\n",
    "}"
   ]
  },
  {
   "cell_type": "code",
   "execution_count": 390,
   "id": "35797a06-a904-43c6-90e0-d7cc2acd0d9e",
   "metadata": {},
   "outputs": [],
   "source": [
    "from bayesian_torch.models.dnn_to_bnn import dnn_to_bnn, get_kl_loss"
   ]
  },
  {
   "cell_type": "code",
   "execution_count": 391,
   "id": "d5189e28-d140-4e0c-87ae-0edc9967d1db",
   "metadata": {},
   "outputs": [],
   "source": [
    "dnn_to_bnn(model_car, bnn_parameters)"
   ]
  },
  {
   "cell_type": "code",
   "execution_count": 392,
   "id": "0068fb4c-219e-4978-b9b3-9815322847bf",
   "metadata": {},
   "outputs": [],
   "source": [
    "ler=0.1\n",
    "kl_weight=1.5\n",
    "iterations=50\n",
    "optimizer = torch.optim.Adam(model_car.parameters(), lr=ler)"
   ]
  },
  {
   "cell_type": "code",
   "execution_count": 393,
   "id": "8573136d-244a-4f24-8dac-331c27f615d4",
   "metadata": {},
   "outputs": [],
   "source": [
    "mse_loss = nn.MSELoss()\n",
    "\n",
    "kl_loss = bnn.BKLLoss(reduction='mean', last_layer_only=False)\n"
   ]
  },
  {
   "cell_type": "code",
   "execution_count": 394,
   "id": "0732f0c1-a6cf-4060-898b-2ae665c3aa4d",
   "metadata": {},
   "outputs": [],
   "source": [
    "def relative_mse(pre,target):\n",
    "    nume=np.linalg.norm((target-pre), ord=2)\n",
    "    deno=np.linalg.norm(target, ord=2)\n",
    "    relativemse=nume/deno\n",
    "    return relativemse"
   ]
  },
  {
   "cell_type": "code",
   "execution_count": 395,
   "id": "9f43a25f-6c6f-4fd3-91d4-68c83c5607fe",
   "metadata": {},
   "outputs": [],
   "source": [
    "from torch.utils.data import DataLoader"
   ]
  },
  {
   "cell_type": "code",
   "execution_count": 396,
   "id": "6d491456-dabb-4fd0-ae9f-1fc45f0a484d",
   "metadata": {},
   "outputs": [],
   "source": [
    "dataset = torch.utils.data.TensorDataset(x_torch, y_torch)"
   ]
  },
  {
   "cell_type": "code",
   "execution_count": 397,
   "id": "a96ddaf4-f1d2-4826-b2f1-fcd86f7e7491",
   "metadata": {},
   "outputs": [],
   "source": [
    "dataloader = torch.utils.data.DataLoader(dataset, batch_size=15025, shuffle=True)"
   ]
  },
  {
   "cell_type": "code",
   "execution_count": 398,
   "id": "ee0b9e73-9a3c-481a-ba6f-8654c1ba11a1",
   "metadata": {},
   "outputs": [],
   "source": [
    "batch_x, batch_y = next(iter(dataloader))"
   ]
  },
  {
   "cell_type": "code",
   "execution_count": 399,
   "id": "a80b0050-8782-41ef-ae49-98e25329a1bb",
   "metadata": {},
   "outputs": [
    {
     "data": {
      "text/plain": [
       "torch.Size([15025, 2])"
      ]
     },
     "execution_count": 399,
     "metadata": {},
     "output_type": "execute_result"
    }
   ],
   "source": [
    "batch_x.shape"
   ]
  },
  {
   "cell_type": "code",
   "execution_count": 400,
   "id": "f6e33df7-a9ca-408d-85d5-0e0572670117",
   "metadata": {},
   "outputs": [
    {
     "data": {
      "text/plain": [
       "torch.Size([15025, 1])"
      ]
     },
     "execution_count": 400,
     "metadata": {},
     "output_type": "execute_result"
    }
   ],
   "source": [
    "batch_y.shape"
   ]
  },
  {
   "cell_type": "code",
   "execution_count": 401,
   "id": "4918726f-72ec-49df-a991-77c37a3b7877",
   "metadata": {},
   "outputs": [
    {
     "data": {
      "text/plain": [
       "torch.Size([15025, 2])"
      ]
     },
     "execution_count": 401,
     "metadata": {},
     "output_type": "execute_result"
    }
   ],
   "source": [
    "batch_x.shape"
   ]
  },
  {
   "cell_type": "code",
   "execution_count": 402,
   "id": "e1f903b2-1e39-415f-9348-94c335815be8",
   "metadata": {},
   "outputs": [
    {
     "data": {
      "text/plain": [
       "torch.Size([15025, 2])"
      ]
     },
     "execution_count": 402,
     "metadata": {},
     "output_type": "execute_result"
    }
   ],
   "source": [
    "batch_x.shape"
   ]
  },
  {
   "cell_type": "code",
   "execution_count": 403,
   "id": "43ad9a92-6fb9-41be-821e-29932b9df178",
   "metadata": {},
   "outputs": [
    {
     "data": {
      "text/plain": [
       "torch.Size([15025, 2])"
      ]
     },
     "execution_count": 403,
     "metadata": {},
     "output_type": "execute_result"
    }
   ],
   "source": [
    "batch_x.shape"
   ]
  },
  {
   "cell_type": "code",
   "execution_count": 404,
   "id": "3cd5c6b1-8120-4ee3-9cf2-76536301ec0f",
   "metadata": {},
   "outputs": [
    {
     "data": {
      "text/plain": [
       "torch.Size([15025, 2])"
      ]
     },
     "execution_count": 404,
     "metadata": {},
     "output_type": "execute_result"
    }
   ],
   "source": [
    "batch_x.view(-1,2).shape"
   ]
  },
  {
   "cell_type": "code",
   "execution_count": 405,
   "id": "5795801d-96d3-496e-be4c-1116fabbdc86",
   "metadata": {},
   "outputs": [
    {
     "name": "stdout",
     "output_type": "stream",
     "text": [
      "- MSE : 0.02108, KL : 5.45197\n"
     ]
    }
   ],
   "source": [
    "#rel_mse_list=[]\n",
    "mse_list=[]\n",
    "kl_losses=[]\n",
    "\n",
    "for epoch in range(iterations): \n",
    "    for entries in range(2):\n",
    "        batch_x,batch_y=next(iter(dataloader))          \n",
    "        pre = model_car(batch_x)\n",
    "        \n",
    "        #print(pre)\n",
    "        #nump_pre=pre.cpu().detach().numpy()\n",
    "        #print(nump_pre) .\n",
    "        #nump_target=(y_torch[entry,:,:].T).cpu().detach().numpy()\n",
    "        #rel_mse=relative_mse(nump_pre,nump_target)\n",
    "            \n",
    "        mse = mse_loss(pre,batch_y)\n",
    "        #rel_mse_list_epochs.append(rel_mse)\n",
    "            \n",
    "        #mse_list.append(mse.cpu().detach().numpy())\n",
    "        mse_list.append(mse.detach().numpy())\n",
    "        kl = get_kl_loss(model_car)\n",
    "        kl_losses.append(kl.item())\n",
    "        cost = mse + kl_weight*(kl/(batch_x.shape[0]))\n",
    "        optimizer.zero_grad()\n",
    "        cost.backward()\n",
    "        optimizer.step()\n",
    "\n",
    "print('- MSE : %2.5f, KL : %2.5f' % (mse.item(), kl.item()))"
   ]
  },
  {
   "cell_type": "code",
   "execution_count": 406,
   "id": "b78918a4-7c62-46b4-984e-44904e37a7d9",
   "metadata": {},
   "outputs": [
    {
     "data": {
      "text/plain": [
       "array(0.01977838, dtype=float32)"
      ]
     },
     "execution_count": 406,
     "metadata": {},
     "output_type": "execute_result"
    }
   ],
   "source": [
    "min(mse_list)"
   ]
  },
  {
   "cell_type": "code",
   "execution_count": 407,
   "id": "8d111cae-2baa-4d2e-8729-ac137619595f",
   "metadata": {},
   "outputs": [
    {
     "data": {
      "text/plain": [
       "[<matplotlib.lines.Line2D at 0x18ad53107f0>]"
      ]
     },
     "execution_count": 407,
     "metadata": {},
     "output_type": "execute_result"
    },
    {
     "data": {
      "image/png": "[encoded data removed]",
      "text/plain": [
       "<Figure size 640x480 with 1 Axes>"
      ]
     },
     "metadata": {},
     "output_type": "display_data"
    }
   ],
   "source": [
    "plt.plot(mse_list)"
   ]
  },
  {
   "cell_type": "code",
   "execution_count": 408,
   "id": "763ba783",
   "metadata": {},
   "outputs": [
    {
     "data": {
      "text/plain": [
       "[<matplotlib.lines.Line2D at 0x18ad4d6da90>]"
      ]
     },
     "execution_count": 408,
     "metadata": {},
     "output_type": "execute_result"
    },
    {
     "data": {
      "image/png": "[encoded data removed]",
      "text/plain": [
       "<Figure size 640x480 with 1 Axes>"
      ]
     },
     "metadata": {},
     "output_type": "display_data"
    }
   ],
   "source": [
    "plt.plot(mse_list)"
   ]
  },
  {
   "cell_type": "code",
   "execution_count": 409,
   "id": "55add135-6b6f-4587-a242-dd2a5be65da6",
   "metadata": {},
   "outputs": [
    {
     "data": {
      "text/plain": [
       "[<matplotlib.lines.Line2D at 0x18ad4dd4490>]"
      ]
     },
     "execution_count": 409,
     "metadata": {},
     "output_type": "execute_result"
    },
    {
     "data": {
      "image/png": "[encoded data removed]",
      "text/plain": [
       "<Figure size 640x480 with 1 Axes>"
      ]
     },
     "metadata": {},
     "output_type": "display_data"
    }
   ],
   "source": [
    "plt.plot(kl_losses)"
   ]
  },
  {
   "cell_type": "code",
   "execution_count": 410,
   "id": "313c2e83-0332-412f-a581-7b9e7251b33f",
   "metadata": {},
   "outputs": [
    {
     "data": {
      "text/plain": [
       "torch.Size([30050])"
      ]
     },
     "execution_count": 410,
     "metadata": {},
     "output_type": "execute_result"
    }
   ],
   "source": [
    "shuffled_indicies.shape"
   ]
  },
  {
   "cell_type": "code",
   "execution_count": 411,
   "id": "225bc7f5-fe4d-4c17-a4be-d0bf3b5c6c9c",
   "metadata": {},
   "outputs": [
    {
     "data": {
      "text/plain": [
       "(1000, 601)"
      ]
     },
     "execution_count": 411,
     "metadata": {},
     "output_type": "execute_result"
    }
   ],
   "source": [
    "op.shape"
   ]
  },
  {
   "cell_type": "code",
   "execution_count": 421,
   "id": "86557d9e-1852-471d-ab68-4671cd60959e",
   "metadata": {},
   "outputs": [],
   "source": [
    "x_test=torch.from_numpy(io[90,:,:]).float()\n",
    "y_test=op[50:,:]\n",
    "y_test_mean=np.mean(y_test,axis=0)\n",
    "y_test_sd=np.std(y_test,axis=0)"
   ]
  },
  {
   "cell_type": "code",
   "execution_count": 422,
   "id": "25a25c90-0774-4735-8bae-856b7c153582",
   "metadata": {},
   "outputs": [],
   "source": [
    "num_realizations = 1000\n",
    "all_fits = []\n",
    "for _ in range(num_realizations):\n",
    "    fit = model_car(x_test)\n",
    "    all_fits.append(fit.data.numpy())\n",
    "    \n",
    "all_fits = np.array(all_fits)\n"
   ]
  },
  {
   "cell_type": "code",
   "execution_count": 423,
   "id": "c7944d96-7cd6-461f-be0e-fef85096286e",
   "metadata": {},
   "outputs": [],
   "source": [
    "mean_fit = np.mean(all_fits, axis=0)\n",
    "std_fit = np.std(all_fits, axis=0)"
   ]
  },
  {
   "cell_type": "code",
   "execution_count": 424,
   "id": "3d2f1874-6949-46b6-a63e-4b955570d0b3",
   "metadata": {},
   "outputs": [],
   "source": [
    "l2_norm=np.linalg.norm(mean_fit-y_test_mean.reshape(-1,1))\n",
    "normalized_l2_norm=l2_norm/(np.linalg.norm(y_test_mean.reshape(-1,1)))\n",
    "l2_norm_std=np.linalg.norm(std_fit-y_test_sd.reshape(-1,1))\n",
    "normalized_l2_sd=l2_norm_std/(np.linalg.norm(y_test_sd.reshape(-1,1)))"
   ]
  },
  {
   "cell_type": "code",
   "execution_count": 425,
   "id": "97f70f9c-74e1-495e-a86c-a9155951bdd2",
   "metadata": {},
   "outputs": [],
   "source": [
    "meanplus=mean_fit+ 2*std_fit\n",
    "meanminus=mean_fit-2*std_fit"
   ]
  },
  {
   "cell_type": "code",
   "execution_count": 426,
   "id": "2b580dbe-6f85-4892-ae94-dfde7ffbe1de",
   "metadata": {},
   "outputs": [
    {
     "data": {
      "text/plain": [
       "[<matplotlib.lines.Line2D at 0x18ad520bc40>]"
      ]
     },
     "execution_count": 426,
     "metadata": {},
     "output_type": "execute_result"
    },
    {
     "data": {
      "image/png": "[encoded data removed]",
      "text/plain": [
       "<Figure size 640x480 with 1 Axes>"
      ]
     },
     "metadata": {},
     "output_type": "display_data"
    }
   ],
   "source": [
    "plt.plot(op[90,:])"
   ]
  },
  {
   "cell_type": "code",
   "execution_count": 427,
   "id": "99f28847-ebd0-4921-a4ae-daf6429a1e61",
   "metadata": {},
   "outputs": [
    {
     "data": {
      "text/plain": [
       "[<matplotlib.lines.Line2D at 0x18ad568dfa0>]"
      ]
     },
     "execution_count": 427,
     "metadata": {},
     "output_type": "execute_result"
    },
    {
     "data": {
      "image/png": "[encoded data removed]",
      "text/plain": [
       "<Figure size 640x480 with 1 Axes>"
      ]
     },
     "metadata": {},
     "output_type": "display_data"
    }
   ],
   "source": [
    "plt.plot(mean_fit)"
   ]
  },
  {
   "cell_type": "code",
   "execution_count": 428,
   "id": "3e58c2f5-463e-4482-b515-5df29dc559fc",
   "metadata": {},
   "outputs": [],
   "source": [
    "\n",
    "model_variables = {\n",
    "        \"prior_mu\": 0.0,\n",
    "        \"prior_sigma\": 1,\n",
    "        \"posterior_mu_init\": 0.0,\n",
    "        \"posterior_rho_init\": 0.0,\n",
    "        \"type\": \"Reparameterization\",  # Flipout or Reparameterization\n",
    "        \"moped_enable\": True,  # True to initialize mu/sigma from the pretrained dnn weights\n",
    "        \"moped_delta\": 0.5,\n",
    "    'learning_rate': ler,\n",
    "    \"kl_weight\": kl_weight,\n",
    "    'iterations':iterations,\n",
    "}\n"
   ]
  },
  {
   "cell_type": "code",
   "execution_count": 443,
   "id": "e42b431e-9421-4814-8e67-da02aa777bb2",
   "metadata": {},
   "outputs": [
    {
     "name": "stdout",
     "output_type": "stream",
     "text": [
      " MEAN VALIDATION ERROR-----0.27787672049009937\n",
      " SD VALIDATION ERROR------0.6610320560970392\n",
      "\n",
      "\n",
      "{'prior_mu': 0.0, 'prior_sigma': 1, 'posterior_mu_init': 0.0, 'posterior_rho_init': 0.0, 'type': 'Reparameterization', 'moped_enable': True, 'moped_delta': 0.5, 'learning_rate': 0.1, 'kl_weight': 1.5, 'iterations': 50}\n",
      "\n",
      "\n",
      "Sequential(\n",
      "  (0): LinearReparameterization()\n",
      "  (1): BatchNorm1d(50, eps=1e-05, momentum=0.1, affine=True, track_running_stats=True)\n",
      "  (2): Tanh()\n",
      "  (3): LinearReparameterization()\n",
      "  (4): BatchNorm1d(1, eps=1e-05, momentum=0.1, affine=True, track_running_stats=True)\n",
      ")\n",
      "\n",
      "\n"
     ]
    },
    {
     "data": {
      "text/plain": [
       "<matplotlib.legend.Legend at 0x18ae015c640>"
      ]
     },
     "execution_count": 443,
     "metadata": {},
     "output_type": "execute_result"
    },
    {
     "data": {
      "image/png": "[encoded data removed]",
      "text/plain": [
       "<Figure size 1200x300 with 2 Axes>"
      ]
     },
     "metadata": {},
     "output_type": "display_data"
    },
    {
     "data": {
      "image/png": "[encoded data removed]",
      "text/plain": [
       "<Figure size 640x480 with 1 Axes>"
      ]
     },
     "metadata": {},
     "output_type": "display_data"
    }
   ],
   "source": [
    "\n",
    "print(\" MEAN VALIDATION ERROR-----{}\".format(normalized_l2_norm))\n",
    "print(\" SD VALIDATION ERROR------{}\".format(normalized_l2_sd))\n",
    "\n",
    "print('\\n')\n",
    "\n",
    "\n",
    "\n",
    "fig, (ax1, ax2) = plt.subplots(1, 2, figsize=(12, 3))\n",
    "ax2.plot(mse_list, label='MSE Error', color='blue')\n",
    "ax2.set_xlabel('Pass')\n",
    "ax2.set_ylabel('MSE Error')\n",
    "ax2.set_title('Mean Squared Error (MSE) over Epochs')\n",
    "ax2.legend()\n",
    "ax2.grid(True)\n",
    "\n",
    "# Create another subplot for KL Loss\n",
    "ax1.plot(kl_losses, label='KL Loss', color='green')\n",
    "ax1.set_ylabel('KL Loss')\n",
    "ax1.set_title('Kullback-Leibler (KL) Loss over Epochs')\n",
    "ax1.legend(loc='upper right')\n",
    "\n",
    "print(model_variables)\n",
    "print('\\n')\n",
    "print(model_car)\n",
    "print('\\n')\n",
    "plt.figure()\n",
    "\n",
    "plt.plot(np.arange(0,601),y_test_mean,label='test')\n",
    "plt.plot(mean_fit,label='mean_fit')\n",
    "plt.legend()\n",
    "plt.fill_between(np.arange(0,601), (mean_fit - 2 * std_fit).squeeze(), (mean_fit + 2 * std_fit).squeeze(), color='green', alpha=0.2, label='±2 Std Dev')\n",
    "plt.fill_between(np.arange(0,601), (y_test_mean - 2 * y_test_sd).squeeze(), (y_test_mean + 2 * y_test_sd).squeeze(), color='red', alpha=0.2, label='±2 Std Dev actual')\n",
    "plt.legend()"
   ]
  },
  {
   "cell_type": "code",
   "execution_count": null,
   "id": "20b77093-b7f7-4532-861f-06eea174b7e3",
   "metadata": {},
   "outputs": [],
   "source": []
  },
  {
   "cell_type": "markdown",
   "id": "baf244df-59a2-4be4-9920-a33c4f907b9b",
   "metadata": {},
   "source": [
    "## The displacement plot"
   ]
  },
  {
   "cell_type": "code",
   "execution_count": 177,
   "id": "4985548c-6de7-4d74-84bb-2b627f24933d",
   "metadata": {},
   "outputs": [],
   "source": [
    "y_outside=op[50:,:]"
   ]
  },
  {
   "cell_type": "code",
   "execution_count": 179,
   "id": "b907e611-66c8-4616-9d71-426be0b9e2cb",
   "metadata": {},
   "outputs": [],
   "source": [
    "y_outside_mean=np.mean(y_outside,axis=0)"
   ]
  },
  {
   "cell_type": "code",
   "execution_count": 182,
   "id": "41803be4-07d8-4f84-8c2c-b0584a586f6e",
   "metadata": {},
   "outputs": [
    {
     "data": {
      "text/plain": [
       "(601,)"
      ]
     },
     "execution_count": 182,
     "metadata": {},
     "output_type": "execute_result"
    }
   ],
   "source": [
    "y_outside_mean.shape"
   ]
  },
  {
   "cell_type": "code",
   "execution_count": 183,
   "id": "0fd7db60-4970-4d6d-bf8b-1ccadf228eff",
   "metadata": {},
   "outputs": [],
   "source": [
    "y_outside_sd=np.std(y_outside,axis=0)"
   ]
  },
  {
   "cell_type": "code",
   "execution_count": 184,
   "id": "3e293886-5b42-4eae-bc7d-1839bd1564d4",
   "metadata": {},
   "outputs": [
    {
     "data": {
      "text/plain": [
       "(601,)"
      ]
     },
     "execution_count": 184,
     "metadata": {},
     "output_type": "execute_result"
    }
   ],
   "source": [
    "y_outside_sd.shape"
   ]
  },
  {
   "cell_type": "code",
   "execution_count": null,
   "id": "c1fb5bc9-788f-4165-b101-c2697377d6f8",
   "metadata": {},
   "outputs": [],
   "source": []
  },
  {
   "cell_type": "code",
   "execution_count": 187,
   "id": "a1a17ed8",
   "metadata": {},
   "outputs": [
    {
     "data": {
      "text/plain": [
       "<matplotlib.collections.PolyCollection at 0x18acb6d8c10>"
      ]
     },
     "execution_count": 187,
     "metadata": {},
     "output_type": "execute_result"
    },
    {
     "data": {
      "image/png": "[encoded data removed]",
      "text/plain": [
       "<Figure size 640x480 with 1 Axes>"
      ]
     },
     "metadata": {},
     "output_type": "display_data"
    }
   ],
   "source": [
    "#plt.plot(np.arange(0,601),y_test.data.numpy(),label='test')\n",
    "plt.plot(y_outside_mean,label='mean_fit')\n",
    "plt.legend()\n",
    "plt.fill_between(np.arange(0,601), (y_outside_mean - 3 * y_outside_sd), (y_outside_mean + 3 * y_outside_sd), color='green', alpha=0.2, label='±2 Std Dev')"
   ]
  },
  {
   "cell_type": "code",
   "execution_count": 45,
   "id": "da3cb7f7",
   "metadata": {},
   "outputs": [
    {
     "data": {
      "text/plain": [
       "tensor([1.3171], grad_fn=<AddBackward0>)"
      ]
     },
     "execution_count": 45,
     "metadata": {},
     "output_type": "execute_result"
    }
   ],
   "source": [
    "cost\n"
   ]
  },
  {
   "cell_type": "code",
   "execution_count": 49,
   "id": "47c18257",
   "metadata": {},
   "outputs": [
    {
     "data": {
      "text/plain": [
       "torch.Size([1000, 601, 2])"
      ]
     },
     "execution_count": 49,
     "metadata": {},
     "output_type": "execute_result"
    }
   ],
   "source": [
    "x_torch.shape"
   ]
  },
  {
   "cell_type": "code",
   "execution_count": 50,
   "id": "4489370c",
   "metadata": {},
   "outputs": [
    {
     "data": {
      "text/plain": [
       "torch.Size([1000, 1, 601])"
      ]
     },
     "execution_count": 50,
     "metadata": {},
     "output_type": "execute_result"
    }
   ],
   "source": [
    "y_torch.shape"
   ]
  },
  {
   "cell_type": "markdown",
   "id": "23a6de31",
   "metadata": {},
   "source": [
    "### Normal NNs"
   ]
  },
  {
   "cell_type": "code",
   "execution_count": 30,
   "id": "f731a2cf-b570-4007-9376-27c15469234b",
   "metadata": {},
   "outputs": [],
   "source": [
    "num_layers = len(list(model_car.children()))\n",
    "model_info = {\n",
    "    'num_layers': num_layers,\n",
    "    'units_per_layer': [1,10,1],\n",
    "    'mse_loss': mse_loss,\n",
    "    'mse_list': mse_list,\n",
    "    'rel_mse_list': rel_mse_list,\n",
    "    'rel_mse_loss': rel_mse,\n",
    "    'min_loss': min(mse_list),\n",
    "    'min_rel_mse': min(rel_mse_list),\n",
    "    'kl_divergence': kl,\n",
    "    'kl_weight': kl_weight,\n",
    "    'learning_rate': lr\n",
    "}"
   ]
  },
  {
   "cell_type": "code",
   "execution_count": 31,
   "id": "5a5beaa5-fb4a-4911-a1ad-f4ac5e854d28",
   "metadata": {},
   "outputs": [
    {
     "data": {
      "text/plain": [
       "'C:\\\\Users\\\\ad3389\\\\OneDrive - Northern Arizona University\\\\Desktop\\\\BNN_Multi_fidelity_TL\\\\logs'"
      ]
     },
     "execution_count": 31,
     "metadata": {},
     "output_type": "execute_result"
    }
   ],
   "source": [
    "direct"
   ]
  },
  {
   "cell_type": "code",
   "execution_count": 32,
   "id": "0d2cb046-f0c4-4b1e-bf2f-f5fb94b0d3da",
   "metadata": {},
   "outputs": [],
   "source": [
    "def log_information_with_loss_list(log_file, model_info,direct):\n",
    "    total_path=os.path.join(direct,log_file)\n",
    "    \n",
    "    with open(total_path, 'a') as file:\n",
    "        \n",
    "        file.write('\\n' * 5)\n",
    "                \n",
    "        file.write(f\"Number of Layers: {model_info['num_layers']}\\n\")\n",
    "        file.write(f\"Units in Each Layer: {model_info['units_per_layer']}\\n\")\n",
    "        file.write(f\"mse_loss: {model_info['mse_loss']}\\n\")\n",
    "        file.write(f\"rel_mse_loss: {model_info['rel_mse_loss']}\\n\")\n",
    "        file.write(f\"Minimum Loss: {model_info['min_loss']}\\n\")\n",
    "        file.write(f\"min_rel_mse: {model_info['min_rel_mse']}\\n\")\n",
    "        file.write(f\"KL Divergence: {model_info['kl_divergence']}\\n\")\n",
    "        file.write(f\"KL Weight: {model_info['kl_weight']}\\n\")\n",
    "        file.write(f\"Learning Rate: {model_info['learning_rate']}\\n\\n\")\n",
    "        file.write(f\"mse_list: {model_info['mse_list']}\\n\")\n",
    "        file.write(f\"rel_mse_list: {model_info['rel_mse_list']}\\n\")\n",
    "\n",
    "        print(\"Log file created successfully.\")\n",
    "\n"
   ]
  },
  {
   "cell_type": "code",
   "execution_count": 33,
   "id": "5dcfe8dc-728a-4442-ba0c-9c1df5c973dd",
   "metadata": {},
   "outputs": [],
   "source": [
    "def log_information(log_file, model_info,direct):\n",
    "    \n",
    "    total_path=os.path.join(direct,log_file)\n",
    "    \n",
    "    with open(total_path, 'a') as file:\n",
    "                \n",
    "        file.write(f\"Number of Layers: {model_info['num_layers']}\\n\")\n",
    "        file.write(f\"Units in Each Layer: {model_info['units_per_layer']}\\n\")\n",
    "        file.write(f\"mse_loss: {model_info['mse_loss']}\\n\")\n",
    "        file.write(f\"rel_mse_loss: {model_info['rel_mse_loss']}\\n\")\n",
    "        file.write(f\"Minimum Loss: {model_info['min_loss']}\\n\")\n",
    "        file.write(f\"min_rel_mse: {model_info['min_rel_mse']}\\n\")\n",
    "        file.write(f\"KL Divergence: {model_info['kl_divergence']}\\n\")\n",
    "        file.write(f\"KL Weight: {model_info['kl_weight']}\\n\")\n",
    "        file.write(f\"Learning Rate: {model_info['learning_rate']}\\n\\n\")\n",
    "\n",
    "\n",
    "        print(\"Log file created successfully.\")\n",
    "\n"
   ]
  },
  {
   "cell_type": "code",
   "execution_count": 34,
   "id": "513876c1-6aef-4486-9bad-469c261a66b4",
   "metadata": {},
   "outputs": [
    {
     "name": "stdout",
     "output_type": "stream",
     "text": [
      "Log file created successfully.\n"
     ]
    }
   ],
   "source": [
    "log_information_with_loss_list('log_{}_loss_list.txt'.format(today_date), model_info,direct)"
   ]
  },
  {
   "cell_type": "code",
   "execution_count": 35,
   "id": "3482c986-8f91-4a3c-8edf-8288db83a228",
   "metadata": {},
   "outputs": [
    {
     "name": "stdout",
     "output_type": "stream",
     "text": [
      "Log file created successfully.\n"
     ]
    }
   ],
   "source": [
    "log_information('log_{}.txt'.format(today_date), model_info,direct)"
   ]
  },
  {
   "cell_type": "code",
   "execution_count": 86,
   "id": "2802e3a2-7e6b-428f-a1de-3743ff4fd919",
   "metadata": {},
   "outputs": [
    {
     "data": {
      "image/png": "[encoded data removed]",
      "text/plain": [
       "<Figure size 640x480 with 1 Axes>"
      ]
     },
     "metadata": {},
     "output_type": "display_data"
    }
   ],
   "source": [
    "x = torch.linspace(-2, 2, 500)\n",
    "y = x.pow(5) -10* x.pow(1) + 2*torch.rand(x.size())\n",
    "x = torch.unsqueeze(x, dim=1)\n",
    "y = torch.unsqueeze(y, dim=1)\n",
    "\n",
    "plt.scatter(x.data.numpy(), y.data.numpy())\n",
    "plt.show()"
   ]
  },
  {
   "cell_type": "code",
   "execution_count": 90,
   "id": "d53f1158-fbd8-4808-9834-92cbe04072f6",
   "metadata": {},
   "outputs": [
    {
     "data": {
      "text/plain": [
       "torch.Size([500, 1])"
      ]
     },
     "execution_count": 90,
     "metadata": {},
     "output_type": "execute_result"
    }
   ],
   "source": [
    "x.shape"
   ]
  },
  {
   "cell_type": "code",
   "execution_count": 107,
   "id": "f3ad7f7c-4e22-4ca8-8fbf-28fd3e579c1f",
   "metadata": {},
   "outputs": [
    {
     "data": {
      "text/plain": [
       "torch.Size([500, 1])"
      ]
     },
     "execution_count": 107,
     "metadata": {},
     "output_type": "execute_result"
    }
   ],
   "source": [
    "y.shape"
   ]
  },
  {
   "cell_type": "code",
   "execution_count": 535,
   "id": "18e2ea77-49f5-48e4-afb8-24cfacc17bd2",
   "metadata": {},
   "outputs": [
    {
     "data": {
      "text/plain": [
       "[array(0.24159057, dtype=float32),\n",
       " array(0.08028367, dtype=float32),\n",
       " array(0.06811801, dtype=float32),\n",
       " array(0.5710897, dtype=float32),\n",
       " array(0.23043574, dtype=float32),\n",
       " array(0.2785191, dtype=float32),\n",
       " array(0.32235688, dtype=float32),\n",
       " array(0.32419676, dtype=float32),\n",
       " array(0.32601178, dtype=float32),\n",
       " array(1.1493932, dtype=float32),\n",
       " array(0.23058666, dtype=float32),\n",
       " array(0.46971875, dtype=float32),\n",
       " array(0.23750074, dtype=float32),\n",
       " array(0.61541575, dtype=float32),\n",
       " array(0.5440377, dtype=float32),\n",
       " array(0.09447826, dtype=float32),\n",
       " array(0.39997557, dtype=float32),\n",
       " array(0.13477156, dtype=float32),\n",
       " array(0.14459395, dtype=float32),\n",
       " array(0.32763997, dtype=float32),\n",
       " array(0.28388527, dtype=float32),\n",
       " array(0.3671469, dtype=float32),\n",
       " array(0.41327217, dtype=float32),\n",
       " array(0.07247515, dtype=float32),\n",
       " array(0.7752722, dtype=float32),\n",
       " array(0.6617238, dtype=float32),\n",
       " array(0.17378263, dtype=float32),\n",
       " array(0.45089757, dtype=float32),\n",
       " array(0.656727, dtype=float32),\n",
       " array(0.67686236, dtype=float32),\n",
       " array(0.6847097, dtype=float32),\n",
       " array(0.5208287, dtype=float32),\n",
       " array(0.1997286, dtype=float32),\n",
       " array(0.3011292, dtype=float32),\n",
       " array(0.47778326, dtype=float32),\n",
       " array(1.1457754, dtype=float32),\n",
       " array(0.11221759, dtype=float32),\n",
       " array(0.26621473, dtype=float32),\n",
       " array(0.64102125, dtype=float32),\n",
       " array(0.18367968, dtype=float32),\n",
       " array(0.29800013, dtype=float32),\n",
       " array(0.6369392, dtype=float32),\n",
       " array(0.24159965, dtype=float32),\n",
       " array(0.78739077, dtype=float32),\n",
       " array(0.23974934, dtype=float32),\n",
       " array(0.32827517, dtype=float32),\n",
       " array(0.21988265, dtype=float32),\n",
       " array(0.79853404, dtype=float32),\n",
       " array(0.6991404, dtype=float32),\n",
       " array(0.78374404, dtype=float32),\n",
       " array(0.24507824, dtype=float32),\n",
       " array(0.3901224, dtype=float32),\n",
       " array(0.08598467, dtype=float32),\n",
       " array(0.09809174, dtype=float32),\n",
       " array(0.12491317, dtype=float32),\n",
       " array(0.34522656, dtype=float32),\n",
       " array(0.42148829, dtype=float32),\n",
       " array(0.11677726, dtype=float32),\n",
       " array(0.15755221, dtype=float32),\n",
       " array(0.14045109, dtype=float32),\n",
       " array(0.27359807, dtype=float32),\n",
       " array(0.7225733, dtype=float32),\n",
       " array(0.20010339, dtype=float32),\n",
       " array(0.09268922, dtype=float32),\n",
       " array(0.59220093, dtype=float32),\n",
       " array(0.40011692, dtype=float32),\n",
       " array(0.15369809, dtype=float32),\n",
       " array(0.19183594, dtype=float32),\n",
       " array(0.75624704, dtype=float32),\n",
       " array(0.10545809, dtype=float32),\n",
       " array(0.20862916, dtype=float32),\n",
       " array(0.38142455, dtype=float32),\n",
       " array(0.45220783, dtype=float32),\n",
       " array(0.6812328, dtype=float32),\n",
       " array(0.5046131, dtype=float32),\n",
       " array(0.26295605, dtype=float32),\n",
       " array(0.10950781, dtype=float32),\n",
       " array(0.4480313, dtype=float32),\n",
       " array(0.2182262, dtype=float32),\n",
       " array(0.72427255, dtype=float32),\n",
       " array(0.42130873, dtype=float32),\n",
       " array(0.23942223, dtype=float32),\n",
       " array(0.1853493, dtype=float32),\n",
       " array(0.24941678, dtype=float32),\n",
       " array(0.30750728, dtype=float32),\n",
       " array(0.4744891, dtype=float32),\n",
       " array(1.003008, dtype=float32),\n",
       " array(0.54824984, dtype=float32),\n",
       " array(0.80558264, dtype=float32),\n",
       " array(0.06569197, dtype=float32),\n",
       " array(0.15739277, dtype=float32),\n",
       " array(0.2321542, dtype=float32),\n",
       " array(0.21471126, dtype=float32),\n",
       " array(0.09743467, dtype=float32),\n",
       " array(0.11611904, dtype=float32),\n",
       " array(0.30930313, dtype=float32),\n",
       " array(0.46810913, dtype=float32),\n",
       " array(0.40866232, dtype=float32),\n",
       " array(0.073846, dtype=float32),\n",
       " array(0.34322178, dtype=float32),\n",
       " array(0.12304394, dtype=float32),\n",
       " array(0.16098404, dtype=float32),\n",
       " array(0.6644131, dtype=float32),\n",
       " array(0.1796344, dtype=float32),\n",
       " array(0.36784065, dtype=float32),\n",
       " array(0.28325245, dtype=float32),\n",
       " array(0.10763815, dtype=float32),\n",
       " array(0.22337154, dtype=float32),\n",
       " array(0.06399866, dtype=float32),\n",
       " array(0.42693707, dtype=float32),\n",
       " array(0.06706467, dtype=float32),\n",
       " array(0.26230538, dtype=float32),\n",
       " array(0.25266472, dtype=float32),\n",
       " array(0.1549311, dtype=float32),\n",
       " array(0.06981769, dtype=float32),\n",
       " array(0.24231622, dtype=float32),\n",
       " array(0.3495891, dtype=float32),\n",
       " array(0.76845527, dtype=float32),\n",
       " array(0.2506137, dtype=float32),\n",
       " array(0.09180609, dtype=float32),\n",
       " array(0.15632586, dtype=float32),\n",
       " array(0.29973096, dtype=float32),\n",
       " array(0.19925, dtype=float32),\n",
       " array(0.56397355, dtype=float32),\n",
       " array(0.29860833, dtype=float32),\n",
       " array(0.38966024, dtype=float32),\n",
       " array(0.1110015, dtype=float32),\n",
       " array(0.0885445, dtype=float32),\n",
       " array(0.46863955, dtype=float32),\n",
       " array(0.2695494, dtype=float32),\n",
       " array(0.26288405, dtype=float32),\n",
       " array(0.21953826, dtype=float32),\n",
       " array(0.34111658, dtype=float32),\n",
       " array(0.24540518, dtype=float32),\n",
       " array(0.1354957, dtype=float32),\n",
       " array(0.16160704, dtype=float32),\n",
       " array(0.12865, dtype=float32),\n",
       " array(0.10196417, dtype=float32),\n",
       " array(0.21065834, dtype=float32),\n",
       " array(0.41920516, dtype=float32),\n",
       " array(0.1238496, dtype=float32),\n",
       " array(0.20692739, dtype=float32),\n",
       " array(0.20387088, dtype=float32),\n",
       " array(0.12553097, dtype=float32),\n",
       " array(0.21457224, dtype=float32),\n",
       " array(0.22148445, dtype=float32),\n",
       " array(0.14786243, dtype=float32),\n",
       " array(0.15114924, dtype=float32),\n",
       " array(0.4237355, dtype=float32),\n",
       " array(0.20783456, dtype=float32),\n",
       " array(0.0896244, dtype=float32),\n",
       " array(0.21861325, dtype=float32),\n",
       " array(0.2242125, dtype=float32),\n",
       " array(0.21444014, dtype=float32),\n",
       " array(0.10242404, dtype=float32),\n",
       " array(0.16499867, dtype=float32),\n",
       " array(0.17554806, dtype=float32),\n",
       " array(0.44742832, dtype=float32),\n",
       " array(0.10423398, dtype=float32),\n",
       " array(0.20404251, dtype=float32),\n",
       " array(0.2455323, dtype=float32),\n",
       " array(0.07006041, dtype=float32),\n",
       " array(0.08345534, dtype=float32),\n",
       " array(0.09693902, dtype=float32),\n",
       " array(0.0871682, dtype=float32),\n",
       " array(0.12813431, dtype=float32),\n",
       " array(0.30975452, dtype=float32),\n",
       " array(0.15151607, dtype=float32),\n",
       " array(0.10261441, dtype=float32),\n",
       " array(0.12130826, dtype=float32),\n",
       " array(0.34188884, dtype=float32),\n",
       " array(0.07029019, dtype=float32),\n",
       " array(0.53343093, dtype=float32),\n",
       " array(0.6402328, dtype=float32),\n",
       " array(0.25316775, dtype=float32),\n",
       " array(0.19423231, dtype=float32),\n",
       " array(0.12499951, dtype=float32),\n",
       " array(0.38543317, dtype=float32),\n",
       " array(0.06421018, dtype=float32),\n",
       " array(0.9318497, dtype=float32),\n",
       " array(0.24187897, dtype=float32),\n",
       " array(0.15257238, dtype=float32),\n",
       " array(0.07253904, dtype=float32),\n",
       " array(0.16776258, dtype=float32),\n",
       " array(0.13357598, dtype=float32),\n",
       " array(0.13129552, dtype=float32),\n",
       " array(0.30275813, dtype=float32),\n",
       " array(0.12000205, dtype=float32),\n",
       " array(0.26388532, dtype=float32),\n",
       " array(0.21112579, dtype=float32),\n",
       " array(0.3669036, dtype=float32),\n",
       " array(0.426317, dtype=float32),\n",
       " array(0.74350196, dtype=float32),\n",
       " array(0.09577321, dtype=float32),\n",
       " array(0.17461309, dtype=float32),\n",
       " array(0.1938138, dtype=float32),\n",
       " array(0.47193146, dtype=float32),\n",
       " array(0.12482115, dtype=float32),\n",
       " array(0.09407989, dtype=float32),\n",
       " array(0.28427902, dtype=float32),\n",
       " array(0.09060243, dtype=float32),\n",
       " array(0.10590232, dtype=float32),\n",
       " array(0.3710462, dtype=float32),\n",
       " array(0.16014782, dtype=float32),\n",
       " array(0.24181087, dtype=float32),\n",
       " array(0.08283278, dtype=float32),\n",
       " array(0.13528644, dtype=float32),\n",
       " array(0.1015047, dtype=float32),\n",
       " array(0.1298395, dtype=float32),\n",
       " array(0.10794901, dtype=float32),\n",
       " array(0.5330699, dtype=float32),\n",
       " array(0.09635465, dtype=float32),\n",
       " array(0.29008523, dtype=float32),\n",
       " array(0.27248317, dtype=float32),\n",
       " array(0.20153184, dtype=float32),\n",
       " array(0.46860933, dtype=float32),\n",
       " array(0.49960816, dtype=float32),\n",
       " array(0.06197948, dtype=float32),\n",
       " array(0.10854305, dtype=float32),\n",
       " array(0.13450378, dtype=float32),\n",
       " array(0.1343707, dtype=float32),\n",
       " array(0.37758392, dtype=float32),\n",
       " array(0.1846842, dtype=float32),\n",
       " array(0.21431167, dtype=float32),\n",
       " array(0.3891676, dtype=float32),\n",
       " array(0.3106598, dtype=float32),\n",
       " array(0.48334903, dtype=float32),\n",
       " array(0.07965665, dtype=float32),\n",
       " array(0.12577868, dtype=float32),\n",
       " array(0.21943413, dtype=float32),\n",
       " array(0.11497591, dtype=float32),\n",
       " array(0.22450815, dtype=float32),\n",
       " array(0.05521963, dtype=float32),\n",
       " array(0.07032143, dtype=float32),\n",
       " array(0.1035189, dtype=float32),\n",
       " array(0.17644905, dtype=float32),\n",
       " array(0.27137607, dtype=float32),\n",
       " array(0.50353986, dtype=float32),\n",
       " array(0.09367555, dtype=float32),\n",
       " array(0.44872528, dtype=float32),\n",
       " array(0.21985562, dtype=float32),\n",
       " array(0.13810503, dtype=float32),\n",
       " array(0.12033478, dtype=float32),\n",
       " array(0.13758191, dtype=float32),\n",
       " array(0.54370415, dtype=float32),\n",
       " array(0.3557947, dtype=float32),\n",
       " array(0.19776373, dtype=float32),\n",
       " array(0.24013078, dtype=float32),\n",
       " array(0.13804339, dtype=float32),\n",
       " array(0.20296036, dtype=float32),\n",
       " array(0.11439139, dtype=float32),\n",
       " array(0.3649815, dtype=float32),\n",
       " array(0.3605496, dtype=float32),\n",
       " array(0.67259145, dtype=float32),\n",
       " array(0.09254561, dtype=float32),\n",
       " array(0.10222851, dtype=float32),\n",
       " array(0.20515585, dtype=float32),\n",
       " array(0.22484648, dtype=float32),\n",
       " array(0.18534692, dtype=float32),\n",
       " array(0.14282437, dtype=float32),\n",
       " array(0.1013855, dtype=float32),\n",
       " array(0.12871821, dtype=float32),\n",
       " array(0.14161707, dtype=float32),\n",
       " array(0.06569391, dtype=float32),\n",
       " array(0.08784715, dtype=float32),\n",
       " array(0.13567382, dtype=float32),\n",
       " array(0.30732194, dtype=float32),\n",
       " array(0.11971904, dtype=float32),\n",
       " array(0.4620655, dtype=float32),\n",
       " array(0.1756805, dtype=float32),\n",
       " array(0.20870642, dtype=float32),\n",
       " array(0.07886239, dtype=float32),\n",
       " array(0.06733277, dtype=float32),\n",
       " array(0.09795409, dtype=float32),\n",
       " array(0.12566707, dtype=float32),\n",
       " array(0.11632044, dtype=float32),\n",
       " array(0.17962778, dtype=float32),\n",
       " array(0.27990112, dtype=float32),\n",
       " array(0.07766917, dtype=float32),\n",
       " array(0.29703876, dtype=float32),\n",
       " array(0.20677361, dtype=float32),\n",
       " array(0.08166593, dtype=float32),\n",
       " array(0.3400573, dtype=float32),\n",
       " array(0.28995213, dtype=float32),\n",
       " array(0.1752211, dtype=float32),\n",
       " array(0.25477698, dtype=float32),\n",
       " array(0.44352472, dtype=float32),\n",
       " array(0.1641907, dtype=float32),\n",
       " array(0.24851532, dtype=float32),\n",
       " array(0.05744242, dtype=float32),\n",
       " array(0.08493323, dtype=float32),\n",
       " array(0.07198981, dtype=float32),\n",
       " array(0.37120166, dtype=float32),\n",
       " array(0.21369895, dtype=float32),\n",
       " array(0.20853283, dtype=float32),\n",
       " array(0.14149538, dtype=float32),\n",
       " array(0.0834384, dtype=float32),\n",
       " array(0.22218277, dtype=float32),\n",
       " array(0.22918661, dtype=float32),\n",
       " array(0.09137136, dtype=float32),\n",
       " array(0.47044688, dtype=float32),\n",
       " array(0.13538405, dtype=float32),\n",
       " array(0.08883037, dtype=float32),\n",
       " array(0.19472739, dtype=float32),\n",
       " array(0.45044097, dtype=float32),\n",
       " array(0.19092116, dtype=float32),\n",
       " array(0.20155305, dtype=float32),\n",
       " array(0.1500307, dtype=float32),\n",
       " array(0.29537284, dtype=float32),\n",
       " array(0.195296, dtype=float32),\n",
       " array(0.41054162, dtype=float32),\n",
       " array(0.5731528, dtype=float32),\n",
       " array(0.09757385, dtype=float32),\n",
       " array(0.23541382, dtype=float32),\n",
       " array(0.3838538, dtype=float32),\n",
       " array(0.5278676, dtype=float32),\n",
       " array(0.09868532, dtype=float32),\n",
       " array(0.21653907, dtype=float32),\n",
       " array(0.13493788, dtype=float32),\n",
       " array(0.12432843, dtype=float32),\n",
       " array(0.0722265, dtype=float32),\n",
       " array(0.09003623, dtype=float32),\n",
       " array(0.22075672, dtype=float32),\n",
       " array(0.10056373, dtype=float32),\n",
       " array(0.16507915, dtype=float32),\n",
       " array(0.22688103, dtype=float32),\n",
       " array(0.1825244, dtype=float32),\n",
       " array(0.27854052, dtype=float32),\n",
       " array(0.29845345, dtype=float32),\n",
       " array(0.15617083, dtype=float32),\n",
       " array(0.24571878, dtype=float32),\n",
       " array(0.36377206, dtype=float32),\n",
       " array(1.0042417, dtype=float32),\n",
       " array(0.2552097, dtype=float32),\n",
       " array(0.11290355, dtype=float32),\n",
       " array(0.12572488, dtype=float32),\n",
       " array(0.10064636, dtype=float32),\n",
       " array(0.2982155, dtype=float32),\n",
       " array(0.12152544, dtype=float32),\n",
       " array(0.14109744, dtype=float32),\n",
       " array(0.09489515, dtype=float32),\n",
       " array(0.09945636, dtype=float32),\n",
       " array(0.24241963, dtype=float32),\n",
       " array(0.12289174, dtype=float32),\n",
       " array(0.08935004, dtype=float32),\n",
       " array(0.10647853, dtype=float32),\n",
       " array(0.08440249, dtype=float32),\n",
       " array(0.10893364, dtype=float32),\n",
       " array(0.16043523, dtype=float32),\n",
       " array(0.07860713, dtype=float32),\n",
       " array(0.10530244, dtype=float32),\n",
       " array(0.08096637, dtype=float32),\n",
       " array(0.21500771, dtype=float32),\n",
       " array(0.06170926, dtype=float32),\n",
       " array(0.11281858, dtype=float32),\n",
       " array(0.50089204, dtype=float32),\n",
       " array(0.13362722, dtype=float32),\n",
       " array(0.4485783, dtype=float32),\n",
       " array(0.0867327, dtype=float32),\n",
       " array(0.1009888, dtype=float32),\n",
       " array(0.2847459, dtype=float32),\n",
       " array(0.11210712, dtype=float32),\n",
       " array(0.18142113, dtype=float32),\n",
       " array(0.15566283, dtype=float32),\n",
       " array(0.5553748, dtype=float32),\n",
       " array(0.16722876, dtype=float32),\n",
       " array(0.57944393, dtype=float32),\n",
       " array(0.09433655, dtype=float32),\n",
       " array(0.16246249, dtype=float32),\n",
       " array(0.22572288, dtype=float32),\n",
       " array(0.1181943, dtype=float32),\n",
       " array(0.3502509, dtype=float32),\n",
       " array(0.2740411, dtype=float32),\n",
       " array(0.28527433, dtype=float32),\n",
       " array(0.19962452, dtype=float32),\n",
       " array(0.17690708, dtype=float32),\n",
       " array(0.10755941, dtype=float32),\n",
       " array(0.13634218, dtype=float32),\n",
       " array(0.36312687, dtype=float32),\n",
       " array(0.1600506, dtype=float32),\n",
       " array(0.092947, dtype=float32),\n",
       " array(0.58698386, dtype=float32),\n",
       " array(0.10495523, dtype=float32),\n",
       " array(0.15874517, dtype=float32),\n",
       " array(0.13761616, dtype=float32),\n",
       " array(0.0981815, dtype=float32),\n",
       " array(0.4091916, dtype=float32),\n",
       " array(0.08044092, dtype=float32),\n",
       " array(0.20372511, dtype=float32),\n",
       " array(0.05977152, dtype=float32),\n",
       " array(0.08734439, dtype=float32),\n",
       " array(0.17992865, dtype=float32),\n",
       " array(0.10689037, dtype=float32),\n",
       " array(0.572827, dtype=float32),\n",
       " array(0.23803747, dtype=float32),\n",
       " array(0.13711011, dtype=float32),\n",
       " array(0.10632948, dtype=float32),\n",
       " array(0.07929181, dtype=float32),\n",
       " array(0.20924106, dtype=float32),\n",
       " array(0.2371163, dtype=float32),\n",
       " array(0.09883182, dtype=float32),\n",
       " array(0.1442618, dtype=float32),\n",
       " array(0.24624799, dtype=float32),\n",
       " array(0.07741305, dtype=float32),\n",
       " array(0.08571678, dtype=float32),\n",
       " array(0.4432462, dtype=float32),\n",
       " array(0.286403, dtype=float32),\n",
       " array(0.0760062, dtype=float32),\n",
       " array(0.12419278, dtype=float32),\n",
       " array(0.07783259, dtype=float32),\n",
       " array(0.11038136, dtype=float32),\n",
       " array(0.1709668, dtype=float32),\n",
       " array(0.07473757, dtype=float32),\n",
       " array(0.1266792, dtype=float32),\n",
       " array(0.45902154, dtype=float32),\n",
       " array(0.1804171, dtype=float32),\n",
       " array(0.14895785, dtype=float32),\n",
       " array(0.09575175, dtype=float32),\n",
       " array(0.38974273, dtype=float32),\n",
       " array(0.6836577, dtype=float32),\n",
       " array(0.17330591, dtype=float32),\n",
       " array(0.10162456, dtype=float32),\n",
       " array(0.1600778, dtype=float32),\n",
       " array(0.18620677, dtype=float32),\n",
       " array(0.18007573, dtype=float32),\n",
       " array(0.18095486, dtype=float32),\n",
       " array(0.15548101, dtype=float32),\n",
       " array(0.11494951, dtype=float32),\n",
       " array(0.07354496, dtype=float32),\n",
       " array(0.14748171, dtype=float32),\n",
       " array(0.54035574, dtype=float32),\n",
       " array(0.10709088, dtype=float32),\n",
       " array(0.1452483, dtype=float32),\n",
       " array(0.12461932, dtype=float32),\n",
       " array(0.09543948, dtype=float32),\n",
       " array(0.07056098, dtype=float32),\n",
       " array(0.45607704, dtype=float32),\n",
       " array(0.12170125, dtype=float32),\n",
       " array(0.06988193, dtype=float32),\n",
       " array(0.09323668, dtype=float32),\n",
       " array(0.1195141, dtype=float32),\n",
       " array(0.09135649, dtype=float32),\n",
       " array(0.20702289, dtype=float32),\n",
       " array(0.12683202, dtype=float32),\n",
       " array(0.1732072, dtype=float32),\n",
       " array(0.14470463, dtype=float32),\n",
       " array(0.20907445, dtype=float32),\n",
       " array(0.20748143, dtype=float32),\n",
       " array(0.11169044, dtype=float32),\n",
       " array(0.14544609, dtype=float32),\n",
       " array(0.19732422, dtype=float32),\n",
       " array(0.08317951, dtype=float32),\n",
       " array(0.11338928, dtype=float32),\n",
       " array(0.10292085, dtype=float32),\n",
       " array(0.22436315, dtype=float32),\n",
       " array(0.08576205, dtype=float32),\n",
       " array(0.14676002, dtype=float32),\n",
       " array(0.11553144, dtype=float32),\n",
       " array(0.17067268, dtype=float32),\n",
       " array(0.17644863, dtype=float32),\n",
       " array(0.32165128, dtype=float32),\n",
       " array(0.1115768, dtype=float32),\n",
       " array(0.21193485, dtype=float32),\n",
       " array(0.11583223, dtype=float32),\n",
       " array(0.22047067, dtype=float32),\n",
       " array(0.16535667, dtype=float32),\n",
       " array(0.12082767, dtype=float32),\n",
       " array(0.11794554, dtype=float32),\n",
       " array(0.09246475, dtype=float32),\n",
       " array(0.16998887, dtype=float32),\n",
       " array(0.11376812, dtype=float32),\n",
       " array(0.11910639, dtype=float32),\n",
       " array(0.24006693, dtype=float32),\n",
       " array(0.1484942, dtype=float32),\n",
       " array(0.18345407, dtype=float32),\n",
       " array(0.12454226, dtype=float32),\n",
       " array(0.24141438, dtype=float32),\n",
       " array(0.07621544, dtype=float32),\n",
       " array(0.17140523, dtype=float32),\n",
       " array(0.11696017, dtype=float32),\n",
       " array(0.11546937, dtype=float32),\n",
       " array(0.09727662, dtype=float32),\n",
       " array(0.11516604, dtype=float32),\n",
       " array(0.11985827, dtype=float32),\n",
       " array(0.27906737, dtype=float32),\n",
       " array(0.10315371, dtype=float32),\n",
       " array(0.17194402, dtype=float32),\n",
       " array(0.15367739, dtype=float32),\n",
       " array(0.16381003, dtype=float32),\n",
       " array(0.0778312, dtype=float32),\n",
       " array(0.10499439, dtype=float32),\n",
       " array(0.06569589, dtype=float32),\n",
       " array(0.09469765, dtype=float32),\n",
       " array(0.11648031, dtype=float32),\n",
       " array(0.05594712, dtype=float32),\n",
       " array(0.09890916, dtype=float32),\n",
       " array(0.17453721, dtype=float32),\n",
       " array(0.14407685, dtype=float32),\n",
       " array(0.08465718, dtype=float32),\n",
       " array(0.26772135, dtype=float32),\n",
       " array(0.28361532, dtype=float32),\n",
       " array(0.35929307, dtype=float32),\n",
       " array(0.07547612, dtype=float32),\n",
       " array(0.07300261, dtype=float32),\n",
       " array(0.16488938, dtype=float32),\n",
       " array(0.1016515, dtype=float32),\n",
       " array(0.326738, dtype=float32),\n",
       " array(0.07454816, dtype=float32),\n",
       " array(0.07690707, dtype=float32),\n",
       " array(0.08534742, dtype=float32),\n",
       " array(0.19642143, dtype=float32),\n",
       " array(0.15827274, dtype=float32),\n",
       " array(0.07804076, dtype=float32),\n",
       " array(0.08089405, dtype=float32),\n",
       " array(0.2152923, dtype=float32),\n",
       " array(0.1413059, dtype=float32),\n",
       " array(0.11249283, dtype=float32),\n",
       " array(0.10965359, dtype=float32),\n",
       " array(0.10274845, dtype=float32),\n",
       " array(0.18253857, dtype=float32),\n",
       " array(0.3236326, dtype=float32),\n",
       " array(0.07423823, dtype=float32),\n",
       " array(0.2087644, dtype=float32),\n",
       " array(0.09638629, dtype=float32),\n",
       " array(0.07583162, dtype=float32),\n",
       " array(0.10498391, dtype=float32),\n",
       " array(0.18811817, dtype=float32),\n",
       " array(0.12910965, dtype=float32),\n",
       " array(0.08073495, dtype=float32),\n",
       " array(0.4778612, dtype=float32),\n",
       " array(0.08098464, dtype=float32),\n",
       " array(0.1840303, dtype=float32),\n",
       " array(0.1364222, dtype=float32),\n",
       " array(0.3286623, dtype=float32),\n",
       " array(0.10092397, dtype=float32),\n",
       " array(0.21556643, dtype=float32),\n",
       " array(0.39894578, dtype=float32),\n",
       " array(0.26240206, dtype=float32),\n",
       " array(0.21513009, dtype=float32),\n",
       " array(0.15264773, dtype=float32),\n",
       " array(0.20802772, dtype=float32),\n",
       " array(0.07797346, dtype=float32),\n",
       " array(0.07463838, dtype=float32),\n",
       " array(0.19068392, dtype=float32),\n",
       " array(0.07565682, dtype=float32),\n",
       " array(0.20951715, dtype=float32),\n",
       " array(0.20173323, dtype=float32),\n",
       " array(0.10228775, dtype=float32),\n",
       " array(0.29766625, dtype=float32),\n",
       " array(0.17279734, dtype=float32),\n",
       " array(0.11864648, dtype=float32),\n",
       " array(0.09818946, dtype=float32),\n",
       " array(0.17568646, dtype=float32),\n",
       " array(0.22962576, dtype=float32),\n",
       " array(0.08153404, dtype=float32),\n",
       " array(0.16200505, dtype=float32),\n",
       " array(0.18365507, dtype=float32),\n",
       " array(0.10404027, dtype=float32),\n",
       " array(0.0797362, dtype=float32),\n",
       " array(0.062171, dtype=float32),\n",
       " array(0.2525832, dtype=float32),\n",
       " array(0.41858357, dtype=float32),\n",
       " array(0.09742322, dtype=float32),\n",
       " array(0.21823427, dtype=float32),\n",
       " array(0.15027109, dtype=float32),\n",
       " array(0.08528169, dtype=float32),\n",
       " array(0.25993556, dtype=float32),\n",
       " array(0.16273071, dtype=float32),\n",
       " array(0.17824747, dtype=float32),\n",
       " array(0.14271472, dtype=float32),\n",
       " array(0.0892733, dtype=float32),\n",
       " array(0.22106577, dtype=float32),\n",
       " array(0.539603, dtype=float32),\n",
       " array(0.1318046, dtype=float32),\n",
       " array(0.1957798, dtype=float32),\n",
       " array(0.16122657, dtype=float32),\n",
       " array(0.09278063, dtype=float32),\n",
       " array(0.22252542, dtype=float32),\n",
       " array(0.17400259, dtype=float32),\n",
       " array(0.10289176, dtype=float32),\n",
       " array(0.09475847, dtype=float32),\n",
       " array(0.08497913, dtype=float32),\n",
       " array(0.12217811, dtype=float32),\n",
       " array(0.09264702, dtype=float32),\n",
       " array(0.13279113, dtype=float32),\n",
       " array(0.0803019, dtype=float32),\n",
       " array(0.24268235, dtype=float32),\n",
       " array(0.21228556, dtype=float32),\n",
       " array(0.11059383, dtype=float32),\n",
       " array(0.09563481, dtype=float32),\n",
       " array(0.77201176, dtype=float32),\n",
       " array(0.11142766, dtype=float32),\n",
       " array(0.39989087, dtype=float32),\n",
       " array(0.12542273, dtype=float32),\n",
       " array(0.0622405, dtype=float32),\n",
       " array(0.11245468, dtype=float32),\n",
       " array(0.23354113, dtype=float32),\n",
       " array(0.07876949, dtype=float32),\n",
       " array(0.1662192, dtype=float32),\n",
       " array(0.07766025, dtype=float32),\n",
       " array(0.08853512, dtype=float32),\n",
       " array(0.19150706, dtype=float32),\n",
       " array(0.07872225, dtype=float32),\n",
       " array(0.09280398, dtype=float32),\n",
       " array(0.27753645, dtype=float32),\n",
       " array(0.07119203, dtype=float32),\n",
       " array(0.06771556, dtype=float32),\n",
       " array(0.14477435, dtype=float32),\n",
       " array(0.08348274, dtype=float32),\n",
       " array(0.31334347, dtype=float32),\n",
       " array(0.08991329, dtype=float32),\n",
       " array(0.11878832, dtype=float32),\n",
       " array(0.28419054, dtype=float32),\n",
       " array(0.07754193, dtype=float32),\n",
       " array(0.27286205, dtype=float32),\n",
       " array(0.18577929, dtype=float32),\n",
       " array(0.07405628, dtype=float32),\n",
       " array(0.08112857, dtype=float32),\n",
       " array(0.08439418, dtype=float32),\n",
       " array(0.18389902, dtype=float32),\n",
       " array(0.13498248, dtype=float32),\n",
       " array(0.08052759, dtype=float32),\n",
       " array(0.22465721, dtype=float32),\n",
       " array(0.13000612, dtype=float32),\n",
       " array(0.15881717, dtype=float32),\n",
       " array(0.11434909, dtype=float32),\n",
       " array(0.43837816, dtype=float32),\n",
       " array(0.35004562, dtype=float32),\n",
       " array(0.14265452, dtype=float32),\n",
       " array(0.1114858, dtype=float32),\n",
       " array(0.2971306, dtype=float32),\n",
       " array(0.11877906, dtype=float32),\n",
       " array(0.56010103, dtype=float32),\n",
       " array(0.6028702, dtype=float32),\n",
       " array(0.2624144, dtype=float32),\n",
       " array(0.08295008, dtype=float32),\n",
       " array(0.6580644, dtype=float32),\n",
       " array(0.10959568, dtype=float32),\n",
       " array(0.21571876, dtype=float32),\n",
       " array(0.14658393, dtype=float32),\n",
       " array(0.18175709, dtype=float32),\n",
       " array(0.20402731, dtype=float32),\n",
       " array(0.06200687, dtype=float32),\n",
       " array(0.09508414, dtype=float32),\n",
       " array(0.09311108, dtype=float32),\n",
       " array(0.1090302, dtype=float32),\n",
       " array(0.09266935, dtype=float32),\n",
       " array(0.23262623, dtype=float32),\n",
       " array(0.2923687, dtype=float32),\n",
       " array(0.2130882, dtype=float32),\n",
       " array(0.19766724, dtype=float32),\n",
       " array(0.07429498, dtype=float32),\n",
       " array(0.3704767, dtype=float32),\n",
       " array(0.07000612, dtype=float32),\n",
       " array(0.391183, dtype=float32),\n",
       " array(0.11698827, dtype=float32),\n",
       " array(0.27216867, dtype=float32),\n",
       " array(0.06603146, dtype=float32),\n",
       " array(0.10841745, dtype=float32),\n",
       " array(0.16619234, dtype=float32),\n",
       " array(0.1377243, dtype=float32),\n",
       " array(0.32723266, dtype=float32),\n",
       " array(0.10544532, dtype=float32),\n",
       " array(0.0913879, dtype=float32),\n",
       " array(0.17775665, dtype=float32),\n",
       " array(0.32463646, dtype=float32),\n",
       " array(0.1469852, dtype=float32),\n",
       " array(0.29732582, dtype=float32),\n",
       " array(0.12342948, dtype=float32),\n",
       " array(0.11024479, dtype=float32),\n",
       " array(0.06725787, dtype=float32),\n",
       " array(0.14512525, dtype=float32),\n",
       " array(0.16516092, dtype=float32),\n",
       " array(0.134308, dtype=float32),\n",
       " array(0.05147827, dtype=float32),\n",
       " array(0.09439, dtype=float32),\n",
       " array(0.24775353, dtype=float32),\n",
       " array(0.07368962, dtype=float32),\n",
       " array(0.06649107, dtype=float32),\n",
       " array(0.24060267, dtype=float32),\n",
       " array(0.27438867, dtype=float32),\n",
       " array(0.17913006, dtype=float32),\n",
       " array(0.24995701, dtype=float32),\n",
       " array(0.15344076, dtype=float32),\n",
       " array(0.13096263, dtype=float32),\n",
       " array(0.28422964, dtype=float32),\n",
       " array(0.24691033, dtype=float32),\n",
       " array(0.18290323, dtype=float32),\n",
       " array(0.15796143, dtype=float32),\n",
       " array(0.12393125, dtype=float32),\n",
       " array(0.1151551, dtype=float32),\n",
       " array(0.3280297, dtype=float32),\n",
       " array(0.06938747, dtype=float32),\n",
       " array(0.12646352, dtype=float32),\n",
       " array(0.17363659, dtype=float32),\n",
       " array(0.14566644, dtype=float32),\n",
       " array(0.14736666, dtype=float32),\n",
       " array(0.29965487, dtype=float32),\n",
       " array(0.15246454, dtype=float32),\n",
       " array(0.3023314, dtype=float32),\n",
       " array(0.14409988, dtype=float32),\n",
       " array(0.07282094, dtype=float32),\n",
       " array(0.19708957, dtype=float32),\n",
       " array(0.34397203, dtype=float32),\n",
       " array(0.11520988, dtype=float32),\n",
       " array(0.07794151, dtype=float32),\n",
       " array(0.09364811, dtype=float32),\n",
       " array(0.07403269, dtype=float32),\n",
       " array(0.11773236, dtype=float32),\n",
       " array(0.3093636, dtype=float32),\n",
       " array(0.13388689, dtype=float32),\n",
       " array(0.08108991, dtype=float32),\n",
       " array(0.08579376, dtype=float32),\n",
       " array(0.19817469, dtype=float32),\n",
       " array(0.12732565, dtype=float32),\n",
       " array(0.15190914, dtype=float32),\n",
       " array(0.07146914, dtype=float32),\n",
       " array(0.31970677, dtype=float32),\n",
       " array(0.10837954, dtype=float32),\n",
       " array(0.78960854, dtype=float32),\n",
       " array(0.08117922, dtype=float32),\n",
       " array(0.1249983, dtype=float32),\n",
       " array(0.14383873, dtype=float32),\n",
       " array(0.26564744, dtype=float32),\n",
       " array(0.21350425, dtype=float32),\n",
       " array(0.07874633, dtype=float32),\n",
       " array(0.07214171, dtype=float32),\n",
       " array(0.11987193, dtype=float32),\n",
       " array(0.13743904, dtype=float32),\n",
       " array(0.17575182, dtype=float32),\n",
       " array(0.17456172, dtype=float32),\n",
       " array(0.08850286, dtype=float32),\n",
       " array(0.10745486, dtype=float32),\n",
       " array(0.14224188, dtype=float32),\n",
       " array(0.27324829, dtype=float32),\n",
       " array(0.17886701, dtype=float32),\n",
       " array(0.33430228, dtype=float32),\n",
       " array(0.07950021, dtype=float32),\n",
       " array(0.11402433, dtype=float32),\n",
       " array(0.11531135, dtype=float32),\n",
       " array(0.12157091, dtype=float32),\n",
       " array(0.05587243, dtype=float32),\n",
       " array(0.09879794, dtype=float32),\n",
       " array(0.29370114, dtype=float32),\n",
       " array(0.12102399, dtype=float32),\n",
       " array(0.11342411, dtype=float32),\n",
       " array(0.10163487, dtype=float32),\n",
       " array(0.5030729, dtype=float32),\n",
       " array(0.3109027, dtype=float32),\n",
       " array(0.13982421, dtype=float32),\n",
       " array(0.15784611, dtype=float32),\n",
       " array(0.13188629, dtype=float32),\n",
       " array(0.6268122, dtype=float32),\n",
       " array(0.13104063, dtype=float32),\n",
       " array(0.2482974, dtype=float32),\n",
       " array(0.0861052, dtype=float32),\n",
       " array(0.2776446, dtype=float32),\n",
       " array(0.08438807, dtype=float32),\n",
       " array(0.0882598, dtype=float32),\n",
       " array(0.1509245, dtype=float32),\n",
       " array(0.11542385, dtype=float32),\n",
       " array(0.10455766, dtype=float32),\n",
       " array(0.12620129, dtype=float32),\n",
       " array(0.3162868, dtype=float32),\n",
       " array(0.83742326, dtype=float32),\n",
       " array(0.08557885, dtype=float32),\n",
       " array(0.12023924, dtype=float32),\n",
       " array(0.30126143, dtype=float32),\n",
       " array(0.07240304, dtype=float32),\n",
       " array(0.12371648, dtype=float32),\n",
       " array(0.16615318, dtype=float32),\n",
       " array(0.12158357, dtype=float32),\n",
       " array(0.16855118, dtype=float32),\n",
       " array(0.11890409, dtype=float32),\n",
       " array(0.23636045, dtype=float32),\n",
       " array(0.24512653, dtype=float32),\n",
       " array(0.0864694, dtype=float32),\n",
       " array(0.08676253, dtype=float32),\n",
       " array(0.14358546, dtype=float32),\n",
       " array(0.18088365, dtype=float32),\n",
       " array(0.18607472, dtype=float32),\n",
       " array(0.08169807, dtype=float32),\n",
       " array(0.14762552, dtype=float32),\n",
       " array(0.13599107, dtype=float32),\n",
       " array(0.13289109, dtype=float32),\n",
       " array(0.21701843, dtype=float32),\n",
       " array(0.16754788, dtype=float32),\n",
       " array(0.30447447, dtype=float32),\n",
       " array(0.08796559, dtype=float32),\n",
       " array(0.22126852, dtype=float32),\n",
       " array(0.36737493, dtype=float32),\n",
       " array(0.15456507, dtype=float32),\n",
       " array(0.0893029, dtype=float32),\n",
       " array(0.20295903, dtype=float32),\n",
       " array(0.10538873, dtype=float32),\n",
       " array(0.16368426, dtype=float32),\n",
       " array(0.29125094, dtype=float32),\n",
       " array(0.10637984, dtype=float32),\n",
       " array(0.10645425, dtype=float32),\n",
       " array(0.07086734, dtype=float32),\n",
       " array(0.2611318, dtype=float32),\n",
       " array(0.06689727, dtype=float32),\n",
       " array(0.145454, dtype=float32),\n",
       " array(0.11161858, dtype=float32),\n",
       " array(0.07791525, dtype=float32),\n",
       " array(0.1418637, dtype=float32),\n",
       " array(0.09198763, dtype=float32),\n",
       " array(0.13309082, dtype=float32),\n",
       " array(0.1443678, dtype=float32),\n",
       " array(0.08352092, dtype=float32),\n",
       " array(0.1483576, dtype=float32),\n",
       " array(0.07475162, dtype=float32),\n",
       " array(0.1871761, dtype=float32),\n",
       " array(0.16927528, dtype=float32),\n",
       " array(0.16087037, dtype=float32),\n",
       " array(0.06832865, dtype=float32),\n",
       " array(0.25977084, dtype=float32),\n",
       " array(0.09321419, dtype=float32),\n",
       " array(0.07784725, dtype=float32),\n",
       " array(0.06649683, dtype=float32),\n",
       " array(0.0866528, dtype=float32),\n",
       " array(0.19296259, dtype=float32),\n",
       " array(0.14602585, dtype=float32),\n",
       " array(0.07702298, dtype=float32),\n",
       " array(0.10558267, dtype=float32),\n",
       " array(0.10399871, dtype=float32),\n",
       " array(0.0831799, dtype=float32),\n",
       " array(0.27539518, dtype=float32),\n",
       " array(0.44924515, dtype=float32),\n",
       " array(0.08554585, dtype=float32),\n",
       " array(0.07781115, dtype=float32),\n",
       " array(0.26220047, dtype=float32),\n",
       " array(0.08836298, dtype=float32),\n",
       " array(0.12288199, dtype=float32),\n",
       " array(0.07711079, dtype=float32),\n",
       " array(0.12798281, dtype=float32),\n",
       " array(0.2332676, dtype=float32),\n",
       " array(0.17840192, dtype=float32),\n",
       " array(0.12304982, dtype=float32),\n",
       " array(0.07290928, dtype=float32),\n",
       " array(0.12993842, dtype=float32),\n",
       " array(0.10603245, dtype=float32),\n",
       " array(0.14957757, dtype=float32),\n",
       " array(0.11976574, dtype=float32),\n",
       " array(0.12290812, dtype=float32),\n",
       " array(0.24392235, dtype=float32),\n",
       " array(0.31917134, dtype=float32),\n",
       " array(0.07673673, dtype=float32),\n",
       " array(0.18330967, dtype=float32),\n",
       " array(0.12211104, dtype=float32),\n",
       " array(0.13527812, dtype=float32),\n",
       " array(0.11298595, dtype=float32),\n",
       " array(0.31501263, dtype=float32),\n",
       " array(0.37542206, dtype=float32),\n",
       " array(0.24036781, dtype=float32),\n",
       " array(0.34840465, dtype=float32),\n",
       " array(0.15469125, dtype=float32),\n",
       " array(0.09310073, dtype=float32),\n",
       " array(0.21201, dtype=float32),\n",
       " array(0.5159351, dtype=float32),\n",
       " array(0.27003327, dtype=float32),\n",
       " array(0.07675355, dtype=float32),\n",
       " array(0.07377619, dtype=float32),\n",
       " array(0.211777, dtype=float32),\n",
       " array(0.39847952, dtype=float32),\n",
       " array(0.08088891, dtype=float32),\n",
       " array(0.13248788, dtype=float32),\n",
       " array(0.15369523, dtype=float32),\n",
       " array(0.11402164, dtype=float32),\n",
       " array(0.2632851, dtype=float32),\n",
       " array(0.09958762, dtype=float32),\n",
       " array(0.2524433, dtype=float32),\n",
       " array(0.12012821, dtype=float32),\n",
       " array(0.22865772, dtype=float32),\n",
       " array(0.34297445, dtype=float32),\n",
       " array(0.26807258, dtype=float32),\n",
       " array(0.19260472, dtype=float32),\n",
       " array(0.09116802, dtype=float32),\n",
       " array(0.09835158, dtype=float32),\n",
       " array(0.10218878, dtype=float32),\n",
       " array(0.32831764, dtype=float32),\n",
       " array(0.17082262, dtype=float32),\n",
       " array(0.14984195, dtype=float32),\n",
       " array(0.38987797, dtype=float32),\n",
       " array(0.13200271, dtype=float32),\n",
       " array(0.3888327, dtype=float32),\n",
       " array(0.15037, dtype=float32),\n",
       " array(0.11162227, dtype=float32),\n",
       " array(0.17498098, dtype=float32),\n",
       " array(0.09573063, dtype=float32),\n",
       " array(0.32955647, dtype=float32),\n",
       " array(0.2929128, dtype=float32),\n",
       " array(0.08712865, dtype=float32),\n",
       " array(0.07416168, dtype=float32),\n",
       " array(0.06743021, dtype=float32),\n",
       " array(0.16837512, dtype=float32),\n",
       " array(0.08915036, dtype=float32),\n",
       " array(0.1692231, dtype=float32),\n",
       " array(0.25815275, dtype=float32),\n",
       " array(0.07858752, dtype=float32),\n",
       " array(0.1326134, dtype=float32),\n",
       " array(0.11506891, dtype=float32),\n",
       " array(0.21793303, dtype=float32),\n",
       " array(0.08888589, dtype=float32),\n",
       " array(0.2862601, dtype=float32),\n",
       " array(0.27185485, dtype=float32),\n",
       " array(0.21374801, dtype=float32),\n",
       " array(0.12016121, dtype=float32),\n",
       " array(0.10552253, dtype=float32),\n",
       " array(0.12595569, dtype=float32),\n",
       " array(0.17844482, dtype=float32),\n",
       " array(0.18553051, dtype=float32),\n",
       " array(0.10600497, dtype=float32),\n",
       " array(0.08377559, dtype=float32),\n",
       " array(0.15247358, dtype=float32),\n",
       " array(0.09299295, dtype=float32),\n",
       " array(0.13008846, dtype=float32),\n",
       " array(0.11281515, dtype=float32),\n",
       " array(0.33882385, dtype=float32),\n",
       " array(0.11013786, dtype=float32),\n",
       " array(0.10684022, dtype=float32),\n",
       " array(0.1093559, dtype=float32),\n",
       " array(0.10519899, dtype=float32),\n",
       " array(0.14235644, dtype=float32),\n",
       " array(0.09491659, dtype=float32),\n",
       " array(0.22955102, dtype=float32),\n",
       " array(0.06447113, dtype=float32),\n",
       " array(0.19603874, dtype=float32),\n",
       " array(0.1415652, dtype=float32),\n",
       " array(0.33559555, dtype=float32),\n",
       " array(0.08716659, dtype=float32),\n",
       " array(0.07097126, dtype=float32),\n",
       " array(0.13158216, dtype=float32),\n",
       " array(0.34406814, dtype=float32),\n",
       " array(0.13861212, dtype=float32),\n",
       " array(0.12607598, dtype=float32),\n",
       " array(0.2636327, dtype=float32),\n",
       " array(0.09238625, dtype=float32),\n",
       " array(0.11463479, dtype=float32),\n",
       " array(0.19215387, dtype=float32),\n",
       " array(0.30445045, dtype=float32),\n",
       " array(0.17081359, dtype=float32),\n",
       " array(0.32974228, dtype=float32),\n",
       " array(0.11046925, dtype=float32),\n",
       " array(0.07162701, dtype=float32),\n",
       " array(0.11688321, dtype=float32),\n",
       " array(0.13437574, dtype=float32),\n",
       " array(0.09393051, dtype=float32),\n",
       " array(0.2670182, dtype=float32),\n",
       " array(0.16250883, dtype=float32),\n",
       " array(0.1337338, dtype=float32),\n",
       " array(0.15860721, dtype=float32),\n",
       " array(0.07966723, dtype=float32),\n",
       " array(0.16091865, dtype=float32),\n",
       " array(0.34871304, dtype=float32),\n",
       " array(0.40654102, dtype=float32),\n",
       " array(0.05731168, dtype=float32),\n",
       " array(0.1005194, dtype=float32),\n",
       " array(0.15274934, dtype=float32),\n",
       " array(0.5187647, dtype=float32),\n",
       " array(0.09547842, dtype=float32),\n",
       " array(0.11537982, dtype=float32),\n",
       " array(0.15124455, dtype=float32),\n",
       " array(0.14320774, dtype=float32),\n",
       " array(0.52592605, dtype=float32),\n",
       " array(0.06446109, dtype=float32),\n",
       " array(0.11914946, dtype=float32),\n",
       " array(0.09565864, dtype=float32),\n",
       " array(0.6763694, dtype=float32),\n",
       " array(0.07210716, dtype=float32),\n",
       " array(0.15581119, dtype=float32),\n",
       " array(0.09568916, dtype=float32),\n",
       " array(0.080996, dtype=float32),\n",
       " array(0.07825853, dtype=float32),\n",
       " array(0.09536946, dtype=float32),\n",
       " array(0.11706834, dtype=float32),\n",
       " array(0.2300353, dtype=float32),\n",
       " array(0.1586149, dtype=float32),\n",
       " array(0.27952617, dtype=float32),\n",
       " array(0.12165307, dtype=float32),\n",
       " array(0.2755342, dtype=float32),\n",
       " array(0.07639915, dtype=float32),\n",
       " array(0.12881356, dtype=float32),\n",
       " array(0.07749323, dtype=float32),\n",
       " array(0.07254834, dtype=float32),\n",
       " array(0.17909089, dtype=float32),\n",
       " array(0.11579695, dtype=float32),\n",
       " array(0.09423946, dtype=float32),\n",
       " array(0.25412014, dtype=float32),\n",
       " array(0.09103009, dtype=float32),\n",
       " array(0.11777645, dtype=float32),\n",
       " array(0.09345244, dtype=float32),\n",
       " array(0.08240998, dtype=float32),\n",
       " array(0.10312192, dtype=float32),\n",
       " array(0.24756436, dtype=float32),\n",
       " array(0.06616005, dtype=float32),\n",
       " array(0.15653339, dtype=float32),\n",
       " array(0.07990796, dtype=float32),\n",
       " array(0.09447171, dtype=float32),\n",
       " array(0.08819474, dtype=float32)]"
      ]
     },
     "execution_count": 535,
     "metadata": {},
     "output_type": "execute_result"
    }
   ],
   "source": [
    "mse_list"
   ]
  },
  {
   "cell_type": "code",
   "execution_count": 67,
   "id": "dfc5f966-f813-4cca-87bb-7d0730698a2c",
   "metadata": {},
   "outputs": [
    {
     "data": {
      "text/plain": [
       "False"
      ]
     },
     "execution_count": 67,
     "metadata": {},
     "output_type": "execute_result"
    }
   ],
   "source": [
    "torch.cuda.is_available()"
   ]
  },
  {
   "cell_type": "code",
   "execution_count": 2,
   "id": "e82eb28e",
   "metadata": {},
   "outputs": [],
   "source": [
    "import sys"
   ]
  },
  {
   "cell_type": "code",
   "execution_count": 3,
   "id": "6fe7e45e",
   "metadata": {},
   "outputs": [
    {
     "data": {
      "text/plain": [
       "'C:\\\\Users\\\\ad3389\\\\AppData\\\\Local\\\\anaconda3\\\\envs\\\\bifidelity_2\\\\python.exe'"
      ]
     },
     "execution_count": 3,
     "metadata": {},
     "output_type": "execute_result"
    }
   ],
   "source": []
  },
  {
   "cell_type": "code",
   "execution_count": 4,
   "id": "17a957b8",
   "metadata": {},
   "outputs": [
    {
     "name": "stdout",
     "output_type": "stream",
     "text": [
      "Looking in indexes: https://download.pytorch.org/whl/cu118\n",
      "Requirement already satisfied: torch in c:\\users\\ad3389\\appdata\\local\\anaconda3\\envs\\bifidelity_2\\lib\\site-packages (1.10.2)\n",
      "Requirement already satisfied: torchvision in c:\\users\\ad3389\\appdata\\local\\anaconda3\\envs\\bifidelity_2\\lib\\site-packages (0.11.3)\n",
      "Requirement already satisfied: torchaudio in c:\\users\\ad3389\\appdata\\local\\anaconda3\\envs\\bifidelity_2\\lib\\site-packages (0.10.2)\n",
      "Requirement already satisfied: typing_extensions in c:\\users\\ad3389\\appdata\\local\\anaconda3\\envs\\bifidelity_2\\lib\\site-packages (from torch) (4.1.1)\n",
      "Requirement already satisfied: dataclasses in c:\\users\\ad3389\\appdata\\local\\anaconda3\\envs\\bifidelity_2\\lib\\site-packages (from torch) (0.8)\n",
      "Requirement already satisfied: numpy in c:\\users\\ad3389\\appdata\\local\\anaconda3\\envs\\bifidelity_2\\lib\\site-packages (from torchvision) (1.19.2)\n",
      "Requirement already satisfied: pillow!=8.3.0,>=5.3.0 in c:\\users\\ad3389\\appdata\\local\\anaconda3\\envs\\bifidelity_2\\lib\\site-packages (from torchvision) (8.3.1)\n"
     ]
    }
   ],
   "source": [
    "!pip3 install torch torchvision torchaudio --index-url https://download.pytorch.org/whl/cu118"
   ]
  },
  {
   "cell_type": "code",
   "execution_count": null,
   "id": "701b2abc",
   "metadata": {},
   "outputs": [],
   "source": []
  }
 ],
 "metadata": {
  "kernelspec": {
   "display_name": "Python 3 (ipykernel)",
   "language": "python",
   "name": "python3"
  },
  "language_info": {
   "codemirror_mode": {
    "name": "ipython",
    "version": 3
   },
   "file_extension": ".py",
   "mimetype": "text/x-python",
   "name": "python",
   "nbconvert_exporter": "python",
   "pygments_lexer": "ipython3",
   "version": "3.9.18"
  }
 },
 "nbformat": 4,
 "nbformat_minor": 5
}
