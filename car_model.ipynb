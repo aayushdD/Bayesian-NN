{
 "cells": [
  {
   "cell_type": "code",
   "execution_count": 2,
   "id": "9d52151d-72ac-4fdf-8e6d-6ee58626cac2",
   "metadata": {},
   "outputs": [],
   "source": [
    "import numpy as np\n",
    "#from sklearn import datasets\n",
    "\n",
    "import torch\n",
    "import torch.nn as nn\n",
    "import torch.optim as optim\n",
    "\n",
    "import torchbnn as bnn\n",
    "import matplotlib.pyplot as plt\n",
    "%matplotlib inline"
   ]
  },
  {
   "cell_type": "code",
   "execution_count": 3,
   "id": "b5608861",
   "metadata": {},
   "outputs": [
    {
     "data": {
      "text/plain": [
       "True"
      ]
     },
     "execution_count": 3,
     "metadata": {},
     "output_type": "execute_result"
    }
   ],
   "source": [
    "torch.cuda.is_available()"
   ]
  },
  {
   "cell_type": "code",
   "execution_count": 4,
   "id": "086e6a60-7cac-44e6-95f3-75382b52bfd1",
   "metadata": {},
   "outputs": [],
   "source": [
    "import scipy.io\n",
    "mat = scipy.io.loadmat('Car_Dataset_hyst_10s_N1000_v3.mat')\n",
    "RV = mat['param'].T \n",
    "tin = mat['t']\n",
    "# # mat['resp_all'].shape\n",
    "xlow_all = mat['accel_LF'].T \n",
    "# mat = scipy.io.loadmat('DeepONet_degrading_data_v2.mat')\n",
    "#xhigh_all = mat['accel_HF'].T\n",
    "xhigh_all = mat['disp_HF'].T"
   ]
  },
  {
   "cell_type": "code",
   "execution_count": 5,
   "id": "27d98db0-0407-48df-b627-a8be32928cc6",
   "metadata": {},
   "outputs": [
    {
     "data": {
      "text/plain": [
       "dict_keys(['__header__', '__version__', '__globals__', 'accel_HF', 'accel_LF', 'disp_HF', 'disp_LF', 'p_mean', 'p_var', 'param', 't'])"
      ]
     },
     "execution_count": 5,
     "metadata": {},
     "output_type": "execute_result"
    }
   ],
   "source": [
    "mat.keys()"
   ]
  },
  {
   "cell_type": "code",
   "execution_count": 6,
   "id": "7525b81c-8e1e-4f70-84fc-30ded3b6be4c",
   "metadata": {},
   "outputs": [
    {
     "data": {
      "text/plain": [
       "(1000, 5)"
      ]
     },
     "execution_count": 6,
     "metadata": {},
     "output_type": "execute_result"
    }
   ],
   "source": [
    "mat['param'].T.shape"
   ]
  },
  {
   "cell_type": "code",
   "execution_count": 7,
   "id": "9657934d-f8b1-4607-a4ff-1edbb04d9b55",
   "metadata": {},
   "outputs": [],
   "source": [
    "mat = scipy.io.loadmat('road_surface.mat')\n",
    "w1 = mat['w1'] "
   ]
  },
  {
   "cell_type": "code",
   "execution_count": 8,
   "id": "4beaa0ae-92d7-4e53-8431-bafab7ba3813",
   "metadata": {},
   "outputs": [
    {
     "data": {
      "text/plain": [
       "(1, 601)"
      ]
     },
     "execution_count": 8,
     "metadata": {},
     "output_type": "execute_result"
    }
   ],
   "source": [
    "w1.shape"
   ]
  },
  {
   "cell_type": "code",
   "execution_count": 9,
   "id": "84decca5-8211-47f9-8099-9dbfce417d8d",
   "metadata": {},
   "outputs": [],
   "source": [
    "data_min = w1.min()\n",
    "data_max = w1.max()\n",
    "\n",
    "normalized_w1 = (w1 - data_min) / (data_max - data_min) * 2 - 1"
   ]
  },
  {
   "cell_type": "code",
   "execution_count": 10,
   "id": "615a87df-2a82-4a1d-8ec4-32a7e6408a48",
   "metadata": {},
   "outputs": [
    {
     "data": {
      "text/plain": [
       "(601, 1000)"
      ]
     },
     "execution_count": 10,
     "metadata": {},
     "output_type": "execute_result"
    }
   ],
   "source": [
    "xhigh_all.shape"
   ]
  },
  {
   "cell_type": "code",
   "execution_count": 11,
   "id": "16db4e29-753c-4385-8353-6c6d9a063512",
   "metadata": {},
   "outputs": [
    {
     "data": {
      "text/plain": [
       "(1, 601)"
      ]
     },
     "execution_count": 11,
     "metadata": {},
     "output_type": "execute_result"
    }
   ],
   "source": [
    "tin.shape"
   ]
  },
  {
   "cell_type": "code",
   "execution_count": 508,
   "id": "f8ddeadc-18d7-4b99-8193-0c5933e04191",
   "metadata": {},
   "outputs": [],
   "source": [
    "nt = 601 \n",
    "ni = 1000 # Number of parameter combinations \n",
    "nin = 7\n",
    "\n",
    "np.random.seed(0)\n",
    "io = np.zeros((ni,int(nt),nin))\n",
    "op = np.zeros((ni,int(nt))) \n",
    "# xlow_all = np.zeros((ni,int(nt)))\n",
    "# xhigh_all = np.zeros((ni,int(nt)))\n",
    "tmax = 10 # For training 10s data used\n",
    "\n",
    "\n",
    "for i in range(ni): \n",
    "    io[i,:,0] = (w1[0,:])\n",
    "    io[i,:,1] = -1.0+2*(tin-np.amin(tin))/(tmax-np.amin(tin))\n",
    "    \n",
    "    for j in range(5): \n",
    "        io[i,:,2+j] = -1.0+2*(RV[i,j]*np.ones((nt,))-np.amin(RV[:,j]))/(np.amax(RV[:,j])-np.amin(RV[:,j])) \n",
    "   \n",
    "#     op[i,:] = (-1.0+(xhigh_all[:,i]-xlow_all[:,i]))/2.0 # For BF training\n",
    "    op[i,:] = (-1.0+(xhigh_all[:,i]))/2.0 # For HF training"
   ]
  },
  {
   "cell_type": "code",
   "execution_count": 509,
   "id": "c005646d-2efa-4b6b-a4dd-272c3b75f215",
   "metadata": {},
   "outputs": [
    {
     "data": {
      "text/plain": [
       "(1000, 601, 7)"
      ]
     },
     "execution_count": 509,
     "metadata": {},
     "output_type": "execute_result"
    }
   ],
   "source": [
    "io.shape"
   ]
  },
  {
   "cell_type": "code",
   "execution_count": 510,
   "id": "a4b9bf75-cdb1-4164-9ca6-740bd8f8b8d1",
   "metadata": {},
   "outputs": [
    {
     "data": {
      "text/plain": [
       "(1000, 5)"
      ]
     },
     "execution_count": 510,
     "metadata": {},
     "output_type": "execute_result"
    }
   ],
   "source": [
    "RV.shape"
   ]
  },
  {
   "cell_type": "markdown",
   "id": "48f38ef3-6ebe-49ab-8bb1-10e110b03010",
   "metadata": {},
   "source": [
    "### Without Parameters"
   ]
  },
  {
   "cell_type": "code",
   "execution_count": 12,
   "id": "2d72f354-4db9-441d-af64-b9df763606dc",
   "metadata": {},
   "outputs": [],
   "source": [
    "import os\n",
    "from datetime import datetime\n",
    "direct= os.path.join(os.getcwd(),'logs')\n",
    "today_date = datetime.now().strftime('%Y-%m-%d')"
   ]
  },
  {
   "cell_type": "code",
   "execution_count": 13,
   "id": "f4cfd205-7a99-4a91-ab24-dbd842a9d582",
   "metadata": {},
   "outputs": [],
   "source": [
    "nt = 601 \n",
    "ni = 1000 # Number of parameter combinations \n",
    "nin = 2\n",
    "\n",
    "np.random.seed(0)\n",
    "io = np.zeros((ni,int(nt),nin))\n",
    "op = np.zeros((ni,int(nt))) \n",
    "# xlow_all = np.zeros((ni,int(nt)))\n",
    "# xhigh_all = np.zeros((ni,int(nt)))\n",
    "tmax = 10 # For training 10s data used\n",
    "\n",
    "\n",
    "for i in range(ni): \n",
    "    io[i,:,0] = normalized_w1[0,:]\n",
    "    io[i,:,1] = -1.0+2*(tin-np.amin(tin))/(tmax-np.amin(tin))   \n",
    "#     op[i,:] = (-1.0+(xhigh_all[:,i]-xlow_all[:,i]))/2.0 # For BF training\n",
    "    op[i,:] = (-1.0+(xhigh_all[:,i]))/2.0 # For HF training\n",
    "    #op[i,:] = xhigh_all[:,i]\n",
    "  "
   ]
  },
  {
   "cell_type": "code",
   "execution_count": 14,
   "id": "07767338",
   "metadata": {},
   "outputs": [
    {
     "data": {
      "text/plain": [
       "[<matplotlib.lines.Line2D at 0x25255bd2be0>]"
      ]
     },
     "execution_count": 14,
     "metadata": {},
     "output_type": "execute_result"
    },
    {
     "data": {
      "image/png": "[encoded data removed]",
      "text/plain": [
       "<Figure size 640x480 with 1 Axes>"
      ]
     },
     "metadata": {},
     "output_type": "display_data"
    }
   ],
   "source": [
    "plt.plot(op[1,:])"
   ]
  },
  {
   "cell_type": "code",
   "execution_count": 15,
   "id": "a9718b60-b40b-4c2f-82a7-28833c359375",
   "metadata": {},
   "outputs": [
    {
     "data": {
      "text/plain": [
       "(1000, 601)"
      ]
     },
     "execution_count": 15,
     "metadata": {},
     "output_type": "execute_result"
    }
   ],
   "source": [
    "op.shape"
   ]
  },
  {
   "cell_type": "code",
   "execution_count": 16,
   "id": "ee5c0060-b1e1-4467-9962-8aae6d45e81a",
   "metadata": {},
   "outputs": [
    {
     "data": {
      "text/plain": [
       "(1, 601)"
      ]
     },
     "execution_count": 16,
     "metadata": {},
     "output_type": "execute_result"
    }
   ],
   "source": [
    "tin.shape"
   ]
  },
  {
   "cell_type": "code",
   "execution_count": 38,
   "id": "164dfcb2-a49d-439d-95cd-0e483ebf1c1f",
   "metadata": {},
   "outputs": [
    {
     "data": {
      "text/plain": [
       "[<matplotlib.lines.Line2D at 0x29b17792730>]"
      ]
     },
     "execution_count": 38,
     "metadata": {},
     "output_type": "execute_result"
    },
    {
     "data": {
      "image/png": "[encoded data removed]",
      "text/plain": [
       "<Figure size 640x480 with 1 Axes>"
      ]
     },
     "metadata": {},
     "output_type": "display_data"
    }
   ],
   "source": [
    "plt.plot(io[1,:,0])"
   ]
  },
  {
   "cell_type": "code",
   "execution_count": 39,
   "id": "4c5c455b-9585-4ea9-a051-6e78693fa0cd",
   "metadata": {},
   "outputs": [
    {
     "data": {
      "text/plain": [
       "(1000, 601, 2)"
      ]
     },
     "execution_count": 39,
     "metadata": {},
     "output_type": "execute_result"
    }
   ],
   "source": [
    "io.shape"
   ]
  },
  {
   "cell_type": "code",
   "execution_count": 40,
   "id": "14c8d4c2-955e-4e8e-b309-2559b711e25f",
   "metadata": {},
   "outputs": [
    {
     "data": {
      "text/plain": [
       "(1000, 601)"
      ]
     },
     "execution_count": 40,
     "metadata": {},
     "output_type": "execute_result"
    }
   ],
   "source": [
    "op.shape"
   ]
  },
  {
   "cell_type": "code",
   "execution_count": 41,
   "id": "abd633e1-b91d-485d-af5c-0e3d41ee450d",
   "metadata": {},
   "outputs": [],
   "source": [
    "x_torch = torch.from_numpy(io).float()\n",
    "y_torch = torch.from_numpy(op).float().unsqueeze(1)"
   ]
  },
  {
   "cell_type": "code",
   "execution_count": 17,
   "id": "e4b9303a-8bd5-4ccd-a583-1196c49a96e3",
   "metadata": {},
   "outputs": [],
   "source": [
    "x_torch_w1=torch.from_numpy(io[:,:,0]).float()"
   ]
  },
  {
   "cell_type": "code",
   "execution_count": 18,
   "id": "251d999c-1f51-477c-b2cd-57244201e408",
   "metadata": {},
   "outputs": [
    {
     "data": {
      "text/plain": [
       "torch.Size([1000, 601])"
      ]
     },
     "execution_count": 18,
     "metadata": {},
     "output_type": "execute_result"
    }
   ],
   "source": [
    "x_torch_w1.shape"
   ]
  },
  {
   "cell_type": "code",
   "execution_count": 19,
   "id": "08b152cb-32d3-4e74-968a-67ba537ccc77",
   "metadata": {},
   "outputs": [
    {
     "data": {
      "text/plain": [
       "torch.Size([1000, 601, 2])"
      ]
     },
     "execution_count": 19,
     "metadata": {},
     "output_type": "execute_result"
    }
   ],
   "source": [
    "x_torch.shape"
   ]
  },
  {
   "cell_type": "code",
   "execution_count": 20,
   "id": "a23a851c-0a08-4add-818b-9b8e5c9e70eb",
   "metadata": {},
   "outputs": [
    {
     "data": {
      "text/plain": [
       "torch.Size([1000, 1, 601])"
      ]
     },
     "execution_count": 20,
     "metadata": {},
     "output_type": "execute_result"
    }
   ],
   "source": [
    "y_torch.shape"
   ]
  },
  {
   "cell_type": "code",
   "execution_count": 21,
   "id": "7eb5637a-7a51-4056-8eee-82fa1ff300c6",
   "metadata": {},
   "outputs": [
    {
     "data": {
      "text/plain": [
       "torch.Size([601, 1])"
      ]
     },
     "execution_count": 21,
     "metadata": {},
     "output_type": "execute_result"
    }
   ],
   "source": [
    "(y_torch[0,:,:].T).shape"
   ]
  },
  {
   "cell_type": "code",
   "execution_count": 42,
   "id": "6eb78300-16ce-4fa8-8fd1-92f7e3d25e68",
   "metadata": {},
   "outputs": [],
   "source": [
    "model_car = nn.Sequential(\n",
    "    bnn.BayesLinear(prior_mu=0, prior_sigma=1, in_features=2, out_features=100),\n",
    "    nn.BatchNorm1d(100),\n",
    "    nn.ReLU(),\n",
    "    bnn.BayesLinear(prior_mu=0, prior_sigma=1, in_features=100, out_features=1),\n",
    "    nn.BatchNorm1d(1)\n",
    ")"
   ]
  },
  {
   "cell_type": "code",
   "execution_count": 15,
   "id": "0e88d646-01d4-45eb-bf1d-e6ae5aee4858",
   "metadata": {},
   "outputs": [],
   "source": [
    "device=torch.device(\"cuda\")"
   ]
  },
  {
   "cell_type": "code",
   "execution_count": 43,
   "id": "094e27e6-328b-4f20-8766-40b689422f21",
   "metadata": {},
   "outputs": [
    {
     "data": {
      "text/plain": [
       "True"
      ]
     },
     "execution_count": 43,
     "metadata": {},
     "output_type": "execute_result"
    }
   ],
   "source": [
    "torch.cuda.is_available()"
   ]
  },
  {
   "cell_type": "code",
   "execution_count": 47,
   "id": "3284580c-06ed-45f9-8072-e516efadcec3",
   "metadata": {},
   "outputs": [],
   "source": [
    "model_car=model_car.to(torch.device('cuda'))"
   ]
  },
  {
   "cell_type": "code",
   "execution_count": 50,
   "id": "d6aa2941-ea33-4e31-8f58-4af5209af098",
   "metadata": {},
   "outputs": [],
   "source": [
    "x_torch=x_torch.to(torch.device('cuda'))\n",
    "y_torch=y_torch.to(torch.device('cuda'))"
   ]
  },
  {
   "cell_type": "code",
   "execution_count": 51,
   "id": "8573136d-244a-4f24-8dac-331c27f615d4",
   "metadata": {},
   "outputs": [],
   "source": [
    "mse_loss = nn.MSELoss()\n",
    "lr=0.01\n",
    "kl_loss = bnn.BKLLoss(reduction='mean', last_layer_only=False)\n",
    "# kl_weight = 0.01\n",
    "optimizer = optim.Adam(model_car.parameters(), lr=lr)\n",
    "kl_weight = 0.000000001"
   ]
  },
  {
   "cell_type": "code",
   "execution_count": 52,
   "id": "0732f0c1-a6cf-4060-898b-2ae665c3aa4d",
   "metadata": {},
   "outputs": [],
   "source": [
    "def relative_mse(pre,target):\n",
    "    nume=np.linalg.norm((target-pre), ord=2)\n",
    "    deno=np.linalg.norm(target, ord=2)\n",
    "    relativemse=nume/deno\n",
    "    return relativemse"
   ]
  },
  {
   "cell_type": "code",
   "execution_count": 54,
   "id": "6d491456-dabb-4fd0-ae9f-1fc45f0a484d",
   "metadata": {},
   "outputs": [],
   "source": [
    "dataset = torch.utils.data.TensorDataset(x_torch, y_torch)"
   ]
  },
  {
   "cell_type": "code",
   "execution_count": 61,
   "id": "ee0b9e73-9a3c-481a-ba6f-8654c1ba11a1",
   "metadata": {},
   "outputs": [],
   "source": [
    "batch_x, batch_y = next(iter(dataloader))"
   ]
  },
  {
   "cell_type": "code",
   "execution_count": 63,
   "id": "a80b0050-8782-41ef-ae49-98e25329a1bb",
   "metadata": {},
   "outputs": [
    {
     "data": {
      "text/plain": [
       "torch.Size([25, 601, 2])"
      ]
     },
     "execution_count": 63,
     "metadata": {},
     "output_type": "execute_result"
    }
   ],
   "source": [
    "batch_x.shape"
   ]
  },
  {
   "cell_type": "code",
   "execution_count": 60,
   "id": "a0019075-8181-4d29-8b24-cef3d6f041c9",
   "metadata": {},
   "outputs": [],
   "source": [
    "dataloader = torch.utils.data.DataLoader(dataset, batch_size=25, shuffle=True)"
   ]
  },
  {
   "cell_type": "code",
   "execution_count": 28,
   "id": "5795801d-96d3-496e-be4c-1116fabbdc86",
   "metadata": {},
   "outputs": [
    {
     "ename": "KeyboardInterrupt",
     "evalue": "",
     "output_type": "error",
     "traceback": [
      "\u001b[1;31m---------------------------------------------------------------------------\u001b[0m",
      "\u001b[1;31mKeyboardInterrupt\u001b[0m                         Traceback (most recent call last)",
      "Cell \u001b[1;32mIn[28], line 11\u001b[0m\n\u001b[0;32m      7\u001b[0m kl_loss_epochs\u001b[38;5;241m=\u001b[39m[]\n\u001b[0;32m      9\u001b[0m \u001b[38;5;28;01mfor\u001b[39;00m entry \u001b[38;5;129;01min\u001b[39;00m \u001b[38;5;28mrange\u001b[39m(\u001b[38;5;241m1000\u001b[39m):\n\u001b[1;32m---> 11\u001b[0m     pre \u001b[38;5;241m=\u001b[39m \u001b[43mmodel_car\u001b[49m\u001b[43m(\u001b[49m\u001b[43mx_torch\u001b[49m\u001b[43m[\u001b[49m\u001b[43mentry\u001b[49m\u001b[43m,\u001b[49m\u001b[43m:\u001b[49m\u001b[43m,\u001b[49m\u001b[43m:\u001b[49m\u001b[43m]\u001b[49m\u001b[43m)\u001b[49m\n\u001b[0;32m     12\u001b[0m     \u001b[38;5;66;03m#print(pre)\u001b[39;00m\n\u001b[0;32m     13\u001b[0m     nump_pre\u001b[38;5;241m=\u001b[39mpre\u001b[38;5;241m.\u001b[39mcpu()\u001b[38;5;241m.\u001b[39mdetach()\u001b[38;5;241m.\u001b[39mnumpy()\n",
      "File \u001b[1;32m~\\AppData\\Local\\anaconda3\\envs\\bifidelity_3\\lib\\site-packages\\torch\\nn\\modules\\module.py:1511\u001b[0m, in \u001b[0;36mModule._wrapped_call_impl\u001b[1;34m(self, *args, **kwargs)\u001b[0m\n\u001b[0;32m   1509\u001b[0m     \u001b[38;5;28;01mreturn\u001b[39;00m \u001b[38;5;28mself\u001b[39m\u001b[38;5;241m.\u001b[39m_compiled_call_impl(\u001b[38;5;241m*\u001b[39margs, \u001b[38;5;241m*\u001b[39m\u001b[38;5;241m*\u001b[39mkwargs)  \u001b[38;5;66;03m# type: ignore[misc]\u001b[39;00m\n\u001b[0;32m   1510\u001b[0m \u001b[38;5;28;01melse\u001b[39;00m:\n\u001b[1;32m-> 1511\u001b[0m     \u001b[38;5;28;01mreturn\u001b[39;00m \u001b[38;5;28mself\u001b[39m\u001b[38;5;241m.\u001b[39m_call_impl(\u001b[38;5;241m*\u001b[39margs, \u001b[38;5;241m*\u001b[39m\u001b[38;5;241m*\u001b[39mkwargs)\n",
      "File \u001b[1;32m~\\AppData\\Local\\anaconda3\\envs\\bifidelity_3\\lib\\site-packages\\torch\\nn\\modules\\module.py:1520\u001b[0m, in \u001b[0;36mModule._call_impl\u001b[1;34m(self, *args, **kwargs)\u001b[0m\n\u001b[0;32m   1515\u001b[0m \u001b[38;5;66;03m# If we don't have any hooks, we want to skip the rest of the logic in\u001b[39;00m\n\u001b[0;32m   1516\u001b[0m \u001b[38;5;66;03m# this function, and just call forward.\u001b[39;00m\n\u001b[0;32m   1517\u001b[0m \u001b[38;5;28;01mif\u001b[39;00m \u001b[38;5;129;01mnot\u001b[39;00m (\u001b[38;5;28mself\u001b[39m\u001b[38;5;241m.\u001b[39m_backward_hooks \u001b[38;5;129;01mor\u001b[39;00m \u001b[38;5;28mself\u001b[39m\u001b[38;5;241m.\u001b[39m_backward_pre_hooks \u001b[38;5;129;01mor\u001b[39;00m \u001b[38;5;28mself\u001b[39m\u001b[38;5;241m.\u001b[39m_forward_hooks \u001b[38;5;129;01mor\u001b[39;00m \u001b[38;5;28mself\u001b[39m\u001b[38;5;241m.\u001b[39m_forward_pre_hooks\n\u001b[0;32m   1518\u001b[0m         \u001b[38;5;129;01mor\u001b[39;00m _global_backward_pre_hooks \u001b[38;5;129;01mor\u001b[39;00m _global_backward_hooks\n\u001b[0;32m   1519\u001b[0m         \u001b[38;5;129;01mor\u001b[39;00m _global_forward_hooks \u001b[38;5;129;01mor\u001b[39;00m _global_forward_pre_hooks):\n\u001b[1;32m-> 1520\u001b[0m     \u001b[38;5;28;01mreturn\u001b[39;00m forward_call(\u001b[38;5;241m*\u001b[39margs, \u001b[38;5;241m*\u001b[39m\u001b[38;5;241m*\u001b[39mkwargs)\n\u001b[0;32m   1522\u001b[0m \u001b[38;5;28;01mtry\u001b[39;00m:\n\u001b[0;32m   1523\u001b[0m     result \u001b[38;5;241m=\u001b[39m \u001b[38;5;28;01mNone\u001b[39;00m\n",
      "File \u001b[1;32m~\\AppData\\Local\\anaconda3\\envs\\bifidelity_3\\lib\\site-packages\\torch\\nn\\modules\\container.py:217\u001b[0m, in \u001b[0;36mSequential.forward\u001b[1;34m(self, input)\u001b[0m\n\u001b[0;32m    215\u001b[0m \u001b[38;5;28;01mdef\u001b[39;00m \u001b[38;5;21mforward\u001b[39m(\u001b[38;5;28mself\u001b[39m, \u001b[38;5;28minput\u001b[39m):\n\u001b[0;32m    216\u001b[0m     \u001b[38;5;28;01mfor\u001b[39;00m module \u001b[38;5;129;01min\u001b[39;00m \u001b[38;5;28mself\u001b[39m:\n\u001b[1;32m--> 217\u001b[0m         \u001b[38;5;28minput\u001b[39m \u001b[38;5;241m=\u001b[39m \u001b[43mmodule\u001b[49m\u001b[43m(\u001b[49m\u001b[38;5;28;43minput\u001b[39;49m\u001b[43m)\u001b[49m\n\u001b[0;32m    218\u001b[0m     \u001b[38;5;28;01mreturn\u001b[39;00m \u001b[38;5;28minput\u001b[39m\n",
      "File \u001b[1;32m~\\AppData\\Local\\anaconda3\\envs\\bifidelity_3\\lib\\site-packages\\torch\\nn\\modules\\module.py:1511\u001b[0m, in \u001b[0;36mModule._wrapped_call_impl\u001b[1;34m(self, *args, **kwargs)\u001b[0m\n\u001b[0;32m   1509\u001b[0m     \u001b[38;5;28;01mreturn\u001b[39;00m \u001b[38;5;28mself\u001b[39m\u001b[38;5;241m.\u001b[39m_compiled_call_impl(\u001b[38;5;241m*\u001b[39margs, \u001b[38;5;241m*\u001b[39m\u001b[38;5;241m*\u001b[39mkwargs)  \u001b[38;5;66;03m# type: ignore[misc]\u001b[39;00m\n\u001b[0;32m   1510\u001b[0m \u001b[38;5;28;01melse\u001b[39;00m:\n\u001b[1;32m-> 1511\u001b[0m     \u001b[38;5;28;01mreturn\u001b[39;00m \u001b[38;5;28mself\u001b[39m\u001b[38;5;241m.\u001b[39m_call_impl(\u001b[38;5;241m*\u001b[39margs, \u001b[38;5;241m*\u001b[39m\u001b[38;5;241m*\u001b[39mkwargs)\n",
      "File \u001b[1;32m~\\AppData\\Local\\anaconda3\\envs\\bifidelity_3\\lib\\site-packages\\torch\\nn\\modules\\module.py:1520\u001b[0m, in \u001b[0;36mModule._call_impl\u001b[1;34m(self, *args, **kwargs)\u001b[0m\n\u001b[0;32m   1515\u001b[0m \u001b[38;5;66;03m# If we don't have any hooks, we want to skip the rest of the logic in\u001b[39;00m\n\u001b[0;32m   1516\u001b[0m \u001b[38;5;66;03m# this function, and just call forward.\u001b[39;00m\n\u001b[0;32m   1517\u001b[0m \u001b[38;5;28;01mif\u001b[39;00m \u001b[38;5;129;01mnot\u001b[39;00m (\u001b[38;5;28mself\u001b[39m\u001b[38;5;241m.\u001b[39m_backward_hooks \u001b[38;5;129;01mor\u001b[39;00m \u001b[38;5;28mself\u001b[39m\u001b[38;5;241m.\u001b[39m_backward_pre_hooks \u001b[38;5;129;01mor\u001b[39;00m \u001b[38;5;28mself\u001b[39m\u001b[38;5;241m.\u001b[39m_forward_hooks \u001b[38;5;129;01mor\u001b[39;00m \u001b[38;5;28mself\u001b[39m\u001b[38;5;241m.\u001b[39m_forward_pre_hooks\n\u001b[0;32m   1518\u001b[0m         \u001b[38;5;129;01mor\u001b[39;00m _global_backward_pre_hooks \u001b[38;5;129;01mor\u001b[39;00m _global_backward_hooks\n\u001b[0;32m   1519\u001b[0m         \u001b[38;5;129;01mor\u001b[39;00m _global_forward_hooks \u001b[38;5;129;01mor\u001b[39;00m _global_forward_pre_hooks):\n\u001b[1;32m-> 1520\u001b[0m     \u001b[38;5;28;01mreturn\u001b[39;00m forward_call(\u001b[38;5;241m*\u001b[39margs, \u001b[38;5;241m*\u001b[39m\u001b[38;5;241m*\u001b[39mkwargs)\n\u001b[0;32m   1522\u001b[0m \u001b[38;5;28;01mtry\u001b[39;00m:\n\u001b[0;32m   1523\u001b[0m     result \u001b[38;5;241m=\u001b[39m \u001b[38;5;28;01mNone\u001b[39;00m\n",
      "File \u001b[1;32m~\\AppData\\Local\\anaconda3\\envs\\bifidelity_3\\lib\\site-packages\\torch\\nn\\modules\\batchnorm.py:175\u001b[0m, in \u001b[0;36m_BatchNorm.forward\u001b[1;34m(self, input)\u001b[0m\n\u001b[0;32m    168\u001b[0m     bn_training \u001b[38;5;241m=\u001b[39m (\u001b[38;5;28mself\u001b[39m\u001b[38;5;241m.\u001b[39mrunning_mean \u001b[38;5;129;01mis\u001b[39;00m \u001b[38;5;28;01mNone\u001b[39;00m) \u001b[38;5;129;01mand\u001b[39;00m (\u001b[38;5;28mself\u001b[39m\u001b[38;5;241m.\u001b[39mrunning_var \u001b[38;5;129;01mis\u001b[39;00m \u001b[38;5;28;01mNone\u001b[39;00m)\n\u001b[0;32m    170\u001b[0m \u001b[38;5;250m\u001b[39m\u001b[38;5;124mr\u001b[39m\u001b[38;5;124;03m\"\"\"\u001b[39;00m\n\u001b[0;32m    171\u001b[0m \u001b[38;5;124;03mBuffers are only updated if they are to be tracked and we are in training mode. Thus they only need to be\u001b[39;00m\n\u001b[0;32m    172\u001b[0m \u001b[38;5;124;03mpassed when the update should occur (i.e. in training mode when they are tracked), or when buffer stats are\u001b[39;00m\n\u001b[0;32m    173\u001b[0m \u001b[38;5;124;03mused for normalization (i.e. in eval mode when buffers are not None).\u001b[39;00m\n\u001b[0;32m    174\u001b[0m \u001b[38;5;124;03m\"\"\"\u001b[39;00m\n\u001b[1;32m--> 175\u001b[0m \u001b[38;5;28;01mreturn\u001b[39;00m \u001b[43mF\u001b[49m\u001b[38;5;241;43m.\u001b[39;49m\u001b[43mbatch_norm\u001b[49m\u001b[43m(\u001b[49m\n\u001b[0;32m    176\u001b[0m \u001b[43m    \u001b[49m\u001b[38;5;28;43minput\u001b[39;49m\u001b[43m,\u001b[49m\n\u001b[0;32m    177\u001b[0m \u001b[43m    \u001b[49m\u001b[38;5;66;43;03m# If buffers are not to be tracked, ensure that they won't be updated\u001b[39;49;00m\n\u001b[0;32m    178\u001b[0m \u001b[43m    \u001b[49m\u001b[38;5;28;43mself\u001b[39;49m\u001b[38;5;241;43m.\u001b[39;49m\u001b[43mrunning_mean\u001b[49m\n\u001b[0;32m    179\u001b[0m \u001b[43m    \u001b[49m\u001b[38;5;28;43;01mif\u001b[39;49;00m\u001b[43m \u001b[49m\u001b[38;5;129;43;01mnot\u001b[39;49;00m\u001b[43m \u001b[49m\u001b[38;5;28;43mself\u001b[39;49m\u001b[38;5;241;43m.\u001b[39;49m\u001b[43mtraining\u001b[49m\u001b[43m \u001b[49m\u001b[38;5;129;43;01mor\u001b[39;49;00m\u001b[43m \u001b[49m\u001b[38;5;28;43mself\u001b[39;49m\u001b[38;5;241;43m.\u001b[39;49m\u001b[43mtrack_running_stats\u001b[49m\n\u001b[0;32m    180\u001b[0m \u001b[43m    \u001b[49m\u001b[38;5;28;43;01melse\u001b[39;49;00m\u001b[43m \u001b[49m\u001b[38;5;28;43;01mNone\u001b[39;49;00m\u001b[43m,\u001b[49m\n\u001b[0;32m    181\u001b[0m \u001b[43m    \u001b[49m\u001b[38;5;28;43mself\u001b[39;49m\u001b[38;5;241;43m.\u001b[39;49m\u001b[43mrunning_var\u001b[49m\u001b[43m \u001b[49m\u001b[38;5;28;43;01mif\u001b[39;49;00m\u001b[43m \u001b[49m\u001b[38;5;129;43;01mnot\u001b[39;49;00m\u001b[43m \u001b[49m\u001b[38;5;28;43mself\u001b[39;49m\u001b[38;5;241;43m.\u001b[39;49m\u001b[43mtraining\u001b[49m\u001b[43m \u001b[49m\u001b[38;5;129;43;01mor\u001b[39;49;00m\u001b[43m \u001b[49m\u001b[38;5;28;43mself\u001b[39;49m\u001b[38;5;241;43m.\u001b[39;49m\u001b[43mtrack_running_stats\u001b[49m\u001b[43m \u001b[49m\u001b[38;5;28;43;01melse\u001b[39;49;00m\u001b[43m \u001b[49m\u001b[38;5;28;43;01mNone\u001b[39;49;00m\u001b[43m,\u001b[49m\n\u001b[0;32m    182\u001b[0m \u001b[43m    \u001b[49m\u001b[38;5;28;43mself\u001b[39;49m\u001b[38;5;241;43m.\u001b[39;49m\u001b[43mweight\u001b[49m\u001b[43m,\u001b[49m\n\u001b[0;32m    183\u001b[0m \u001b[43m    \u001b[49m\u001b[38;5;28;43mself\u001b[39;49m\u001b[38;5;241;43m.\u001b[39;49m\u001b[43mbias\u001b[49m\u001b[43m,\u001b[49m\n\u001b[0;32m    184\u001b[0m \u001b[43m    \u001b[49m\u001b[43mbn_training\u001b[49m\u001b[43m,\u001b[49m\n\u001b[0;32m    185\u001b[0m \u001b[43m    \u001b[49m\u001b[43mexponential_average_factor\u001b[49m\u001b[43m,\u001b[49m\n\u001b[0;32m    186\u001b[0m \u001b[43m    \u001b[49m\u001b[38;5;28;43mself\u001b[39;49m\u001b[38;5;241;43m.\u001b[39;49m\u001b[43meps\u001b[49m\u001b[43m,\u001b[49m\n\u001b[0;32m    187\u001b[0m \u001b[43m\u001b[49m\u001b[43m)\u001b[49m\n",
      "File \u001b[1;32m~\\AppData\\Local\\anaconda3\\envs\\bifidelity_3\\lib\\site-packages\\torch\\nn\\functional.py:2482\u001b[0m, in \u001b[0;36mbatch_norm\u001b[1;34m(input, running_mean, running_var, weight, bias, training, momentum, eps)\u001b[0m\n\u001b[0;32m   2479\u001b[0m \u001b[38;5;28;01mif\u001b[39;00m training:\n\u001b[0;32m   2480\u001b[0m     _verify_batch_size(\u001b[38;5;28minput\u001b[39m\u001b[38;5;241m.\u001b[39msize())\n\u001b[1;32m-> 2482\u001b[0m \u001b[38;5;28;01mreturn\u001b[39;00m \u001b[43mtorch\u001b[49m\u001b[38;5;241;43m.\u001b[39;49m\u001b[43mbatch_norm\u001b[49m\u001b[43m(\u001b[49m\n\u001b[0;32m   2483\u001b[0m \u001b[43m    \u001b[49m\u001b[38;5;28;43minput\u001b[39;49m\u001b[43m,\u001b[49m\u001b[43m \u001b[49m\u001b[43mweight\u001b[49m\u001b[43m,\u001b[49m\u001b[43m \u001b[49m\u001b[43mbias\u001b[49m\u001b[43m,\u001b[49m\u001b[43m \u001b[49m\u001b[43mrunning_mean\u001b[49m\u001b[43m,\u001b[49m\u001b[43m \u001b[49m\u001b[43mrunning_var\u001b[49m\u001b[43m,\u001b[49m\u001b[43m \u001b[49m\u001b[43mtraining\u001b[49m\u001b[43m,\u001b[49m\u001b[43m \u001b[49m\u001b[43mmomentum\u001b[49m\u001b[43m,\u001b[49m\u001b[43m \u001b[49m\u001b[43meps\u001b[49m\u001b[43m,\u001b[49m\u001b[43m \u001b[49m\u001b[43mtorch\u001b[49m\u001b[38;5;241;43m.\u001b[39;49m\u001b[43mbackends\u001b[49m\u001b[38;5;241;43m.\u001b[39;49m\u001b[43mcudnn\u001b[49m\u001b[38;5;241;43m.\u001b[39;49m\u001b[43menabled\u001b[49m\n\u001b[0;32m   2484\u001b[0m \u001b[43m\u001b[49m\u001b[43m)\u001b[49m\n",
      "\u001b[1;31mKeyboardInterrupt\u001b[0m: "
     ]
    }
   ],
   "source": [
    "#rel_mse_list=[]\n",
    "mse_list=[]\n",
    "\n",
    "for epoch in range(1000):\n",
    "    mse_list_epochs=[]\n",
    "    #rel_mse_list_epochs=[]\n",
    "    kl_loss_epochs=[]\n",
    "    \n",
    "    for entry in range(1000):    \n",
    "        pre = model_car(x_torch[entry,:,:])\n",
    "        #print(pre)\n",
    "        #nump_pre=pre.cpu().detach().numpy()\n",
    "        #print(nump_pre)\n",
    "        #nump_target=(y_torch[entry,:,:].T).cpu().detach().numpy()\n",
    "        #rel_mse=relative_mse(nump_pre,nump_target)\n",
    "        mse = mse_loss(pre,y_torch[entry,:,:].T)\n",
    "        #rel_mse_list_epochs.append(rel_mse)\n",
    "        mse_list_epochs.append(mse.cpu().detach().numpy())   \n",
    "        kl = kl_loss(model_car)\n",
    "        kl_loss_epochs.append(kl.item())\n",
    "        mse_length=len(mse_list_epochs)\n",
    "\n",
    "        if mse_length==25:\n",
    "            mean_kl=sum(kl_loss_epochs)/len(kl_loss_epochs)\n",
    "            mean_mse=sum(mse_list_epochs)/len(mse_list_epochs)\n",
    "            #mean_rel_mse=sum(rel_mse_list_epochs)/len(rel_mse_list_epochs)\n",
    "            cost = mean_mse + kl_weight*mean_kl \n",
    "            #print(mean_mse)\n",
    "            #print(mean_kl) \n",
    "            #print(cost)\n",
    "            optimizer.zero_grad()\n",
    "            cost.backward()\n",
    "            optimizer.step()\n",
    "\n",
    "            mse_list_epochs=[]\n",
    "            #rel_mse_list_epochs=[]\n",
    "            kl_loss_epochs=[]\n",
    "\n",
    "            #rel_mse_list.append(mean_rel_mse)\n",
    "            mse_list.append(mean_mse)\n",
    "    \n",
    "    \n",
    "print('- MSE : %2.5f, KL : %2.5f' % (mse.item(), kl.item()))"
   ]
  },
  {
   "cell_type": "code",
   "execution_count": 29,
   "id": "d7d35ae5",
   "metadata": {},
   "outputs": [
    {
     "data": {
      "text/plain": [
       "1.2315129661560058"
      ]
     },
     "execution_count": 29,
     "metadata": {},
     "output_type": "execute_result"
    }
   ],
   "source": [
    "min(mse_list)"
   ]
  },
  {
   "cell_type": "code",
   "execution_count": 30,
   "id": "24211845",
   "metadata": {},
   "outputs": [
    {
     "data": {
      "text/plain": [
       "2.2078957080841066"
      ]
     },
     "execution_count": 30,
     "metadata": {},
     "output_type": "execute_result"
    }
   ],
   "source": [
    "min(rel_mse_list)"
   ]
  },
  {
   "cell_type": "code",
   "execution_count": 31,
   "id": "763ba783",
   "metadata": {},
   "outputs": [
    {
     "data": {
      "text/plain": [
       "[<matplotlib.lines.Line2D at 0x29c41ecaf40>]"
      ]
     },
     "execution_count": 31,
     "metadata": {},
     "output_type": "execute_result"
    },
    {
     "data": {
      "image/png": "[encoded data removed]",
      "text/plain": [
       "<Figure size 640x480 with 1 Axes>"
      ]
     },
     "metadata": {},
     "output_type": "display_data"
    }
   ],
   "source": [
    "plt.plot(mse_list)"
   ]
  },
  {
   "cell_type": "code",
   "execution_count": 32,
   "id": "a1a17ed8",
   "metadata": {},
   "outputs": [],
   "source": [
    "pre = model_car(x_torch[0,:,:])"
   ]
  },
  {
   "cell_type": "code",
   "execution_count": 33,
   "id": "2bdf1a69",
   "metadata": {},
   "outputs": [
    {
     "ename": "NameError",
     "evalue": "name 'step' is not defined",
     "output_type": "error",
     "traceback": [
      "\u001b[1;31m---------------------------------------------------------------------------\u001b[0m",
      "\u001b[1;31mNameError\u001b[0m                                 Traceback (most recent call last)",
      "Cell \u001b[1;32mIn[33], line 1\u001b[0m\n\u001b[1;32m----> 1\u001b[0m y_torch[\u001b[43mstep\u001b[49m\u001b[38;5;241m-\u001b[39m\u001b[38;5;241m1\u001b[39m,:,:]\n",
      "\u001b[1;31mNameError\u001b[0m: name 'step' is not defined"
     ]
    }
   ],
   "source": [
    "y_torch[step-1,:,:]"
   ]
  },
  {
   "cell_type": "code",
   "execution_count": 65,
   "id": "2d4473e6",
   "metadata": {},
   "outputs": [
    {
     "data": {
      "text/plain": [
       "tensor([[ 1.4561],\n",
       "        [ 1.4258],\n",
       "        [ 1.4277],\n",
       "        [ 1.4272],\n",
       "        [ 1.4517],\n",
       "        [ 1.4817],\n",
       "        [ 1.5301],\n",
       "        [ 1.5514],\n",
       "        [ 1.5177],\n",
       "        [ 1.5066],\n",
       "        [ 1.4965],\n",
       "        [ 1.5339],\n",
       "        [ 1.5610],\n",
       "        [ 1.5579],\n",
       "        [ 1.5534],\n",
       "        [ 1.5375],\n",
       "        [ 1.5032],\n",
       "        [ 1.4630],\n",
       "        [ 1.4728],\n",
       "        [ 1.4608],\n",
       "        [ 1.4283],\n",
       "        [ 1.4139],\n",
       "        [ 1.4237],\n",
       "        [ 1.4626],\n",
       "        [ 1.4737],\n",
       "        [ 1.4735],\n",
       "        [ 1.4821],\n",
       "        [ 1.4921],\n",
       "        [ 1.4919],\n",
       "        [ 1.4905],\n",
       "        [ 1.4636],\n",
       "        [ 1.4850],\n",
       "        [ 1.4955],\n",
       "        [ 1.4629],\n",
       "        [ 1.4759],\n",
       "        [ 1.4821],\n",
       "        [ 1.5006],\n",
       "        [ 1.5019],\n",
       "        [ 1.5347],\n",
       "        [ 1.4971],\n",
       "        [ 1.4792],\n",
       "        [ 1.4626],\n",
       "        [ 1.4527],\n",
       "        [ 1.4316],\n",
       "        [ 1.4273],\n",
       "        [ 1.3868],\n",
       "        [ 1.3355],\n",
       "        [ 1.3588],\n",
       "        [ 1.3503],\n",
       "        [ 1.3116],\n",
       "        [ 1.3155],\n",
       "        [ 1.3404],\n",
       "        [ 1.3620],\n",
       "        [ 1.3658],\n",
       "        [ 1.3514],\n",
       "        [ 1.3544],\n",
       "        [ 1.3616],\n",
       "        [ 1.3599],\n",
       "        [ 1.3641],\n",
       "        [ 1.3567],\n",
       "        [ 1.3454],\n",
       "        [ 1.3808],\n",
       "        [ 1.3287],\n",
       "        [ 1.3111],\n",
       "        [ 1.2948],\n",
       "        [ 1.3084],\n",
       "        [ 1.3230],\n",
       "        [ 1.3092],\n",
       "        [ 1.3311],\n",
       "        [ 1.3070],\n",
       "        [ 1.2741],\n",
       "        [ 1.3159],\n",
       "        [ 1.3361],\n",
       "        [ 1.3171],\n",
       "        [ 1.2823],\n",
       "        [ 1.2877],\n",
       "        [ 1.2553],\n",
       "        [ 1.2479],\n",
       "        [ 1.2205],\n",
       "        [ 1.2046],\n",
       "        [ 1.1750],\n",
       "        [ 1.1437],\n",
       "        [ 1.1444],\n",
       "        [ 1.1593],\n",
       "        [ 1.1581],\n",
       "        [ 1.1555],\n",
       "        [ 1.1435],\n",
       "        [ 1.1510],\n",
       "        [ 1.1376],\n",
       "        [ 1.1537],\n",
       "        [ 1.1386],\n",
       "        [ 1.1557],\n",
       "        [ 1.1415],\n",
       "        [ 1.1486],\n",
       "        [ 1.1319],\n",
       "        [ 1.1360],\n",
       "        [ 1.1350],\n",
       "        [ 1.0965],\n",
       "        [ 1.0872],\n",
       "        [ 1.0705],\n",
       "        [ 1.0885],\n",
       "        [ 1.0713],\n",
       "        [ 1.0620],\n",
       "        [ 1.0501],\n",
       "        [ 1.0628],\n",
       "        [ 1.0676],\n",
       "        [ 1.0778],\n",
       "        [ 1.0899],\n",
       "        [ 1.0991],\n",
       "        [ 1.0897],\n",
       "        [ 1.0564],\n",
       "        [ 1.0702],\n",
       "        [ 1.0888],\n",
       "        [ 1.0813],\n",
       "        [ 1.1012],\n",
       "        [ 1.0952],\n",
       "        [ 1.1295],\n",
       "        [ 1.1427],\n",
       "        [ 1.1610],\n",
       "        [ 1.1816],\n",
       "        [ 1.1150],\n",
       "        [ 1.1288],\n",
       "        [ 1.1591],\n",
       "        [ 1.1533],\n",
       "        [ 1.1938],\n",
       "        [ 1.2113],\n",
       "        [ 1.2136],\n",
       "        [ 1.2160],\n",
       "        [ 1.2174],\n",
       "        [ 1.2200],\n",
       "        [ 1.2099],\n",
       "        [ 1.1741],\n",
       "        [ 1.1875],\n",
       "        [ 1.1658],\n",
       "        [ 1.1528],\n",
       "        [ 1.1503],\n",
       "        [ 1.1217],\n",
       "        [ 1.1481],\n",
       "        [ 1.1270],\n",
       "        [ 1.0991],\n",
       "        [ 1.0663],\n",
       "        [ 1.0302],\n",
       "        [ 1.0372],\n",
       "        [ 1.0756],\n",
       "        [ 1.0535],\n",
       "        [ 1.0440],\n",
       "        [ 1.0514],\n",
       "        [ 1.0534],\n",
       "        [ 1.0399],\n",
       "        [ 1.0364],\n",
       "        [ 0.9694],\n",
       "        [ 0.9647],\n",
       "        [ 0.9553],\n",
       "        [ 0.9624],\n",
       "        [ 0.9752],\n",
       "        [ 1.0255],\n",
       "        [ 1.0140],\n",
       "        [ 1.0338],\n",
       "        [ 1.0219],\n",
       "        [ 1.0062],\n",
       "        [ 1.0335],\n",
       "        [ 1.0158],\n",
       "        [ 1.0149],\n",
       "        [ 1.0379],\n",
       "        [ 1.0432],\n",
       "        [ 1.0390],\n",
       "        [ 1.0042],\n",
       "        [ 1.0219],\n",
       "        [ 0.9805],\n",
       "        [ 0.9675],\n",
       "        [ 0.9753],\n",
       "        [ 0.9582],\n",
       "        [ 0.9564],\n",
       "        [ 0.9368],\n",
       "        [ 0.9338],\n",
       "        [ 0.8954],\n",
       "        [ 0.8878],\n",
       "        [ 0.8924],\n",
       "        [ 0.8421],\n",
       "        [ 0.8418],\n",
       "        [ 0.8545],\n",
       "        [ 0.8430],\n",
       "        [ 0.8563],\n",
       "        [ 0.8324],\n",
       "        [ 0.7689],\n",
       "        [ 0.7757],\n",
       "        [ 0.7697],\n",
       "        [ 0.7470],\n",
       "        [ 0.7403],\n",
       "        [ 0.7244],\n",
       "        [ 0.7134],\n",
       "        [ 0.6804],\n",
       "        [ 0.6786],\n",
       "        [ 0.6888],\n",
       "        [ 0.6816],\n",
       "        [ 0.6576],\n",
       "        [ 0.6229],\n",
       "        [ 0.6374],\n",
       "        [ 0.6537],\n",
       "        [ 0.6872],\n",
       "        [ 0.6738],\n",
       "        [ 0.6767],\n",
       "        [ 0.7099],\n",
       "        [ 0.7223],\n",
       "        [ 0.7906],\n",
       "        [ 0.7612],\n",
       "        [ 0.7183],\n",
       "        [ 0.6809],\n",
       "        [ 0.7083],\n",
       "        [ 0.7061],\n",
       "        [ 0.6965],\n",
       "        [ 0.7074],\n",
       "        [ 0.7163],\n",
       "        [ 0.6953],\n",
       "        [ 0.6900],\n",
       "        [ 0.7260],\n",
       "        [ 0.7119],\n",
       "        [ 0.7051],\n",
       "        [ 0.7356],\n",
       "        [ 0.7434],\n",
       "        [ 0.7018],\n",
       "        [ 0.7158],\n",
       "        [ 0.7127],\n",
       "        [ 0.6961],\n",
       "        [ 0.6601],\n",
       "        [ 0.6709],\n",
       "        [ 0.6509],\n",
       "        [ 0.6888],\n",
       "        [ 0.6479],\n",
       "        [ 0.6279],\n",
       "        [ 0.6262],\n",
       "        [ 0.6241],\n",
       "        [ 0.6027],\n",
       "        [ 0.6157],\n",
       "        [ 0.6374],\n",
       "        [ 0.5807],\n",
       "        [ 0.6190],\n",
       "        [ 0.6113],\n",
       "        [ 0.5418],\n",
       "        [ 0.5158],\n",
       "        [ 0.5235],\n",
       "        [ 0.5261],\n",
       "        [ 0.5264],\n",
       "        [ 0.5225],\n",
       "        [ 0.5155],\n",
       "        [ 0.4753],\n",
       "        [ 0.4630],\n",
       "        [ 0.4499],\n",
       "        [ 0.4410],\n",
       "        [ 0.4391],\n",
       "        [ 0.4212],\n",
       "        [ 0.4138],\n",
       "        [ 0.3702],\n",
       "        [ 0.3503],\n",
       "        [ 0.2841],\n",
       "        [ 0.2973],\n",
       "        [ 0.3179],\n",
       "        [ 0.3626],\n",
       "        [ 0.3466],\n",
       "        [ 0.3635],\n",
       "        [ 0.4066],\n",
       "        [ 0.3838],\n",
       "        [ 0.4008],\n",
       "        [ 0.4138],\n",
       "        [ 0.3889],\n",
       "        [ 0.3657],\n",
       "        [ 0.3654],\n",
       "        [ 0.3629],\n",
       "        [ 0.3115],\n",
       "        [ 0.3232],\n",
       "        [ 0.3551],\n",
       "        [ 0.3387],\n",
       "        [ 0.3404],\n",
       "        [ 0.2728],\n",
       "        [ 0.2267],\n",
       "        [ 0.2860],\n",
       "        [ 0.2975],\n",
       "        [ 0.3160],\n",
       "        [ 0.2861],\n",
       "        [ 0.2053],\n",
       "        [ 0.2038],\n",
       "        [ 0.2660],\n",
       "        [ 0.2789],\n",
       "        [ 0.2693],\n",
       "        [ 0.2184],\n",
       "        [ 0.1332],\n",
       "        [ 0.0043],\n",
       "        [-0.1047],\n",
       "        [-0.0720],\n",
       "        [ 0.0566],\n",
       "        [ 0.1756],\n",
       "        [ 0.1573],\n",
       "        [ 0.0931],\n",
       "        [ 0.1121],\n",
       "        [ 0.0250],\n",
       "        [ 0.0131],\n",
       "        [-0.0451],\n",
       "        [-0.1019],\n",
       "        [-0.1357],\n",
       "        [-0.1915],\n",
       "        [-0.1936],\n",
       "        [-0.1611],\n",
       "        [-0.1361],\n",
       "        [-0.1937],\n",
       "        [-0.2807],\n",
       "        [-0.2800],\n",
       "        [-0.3381],\n",
       "        [-0.3364],\n",
       "        [-0.2796],\n",
       "        [-0.2245],\n",
       "        [-0.1794],\n",
       "        [-0.2224],\n",
       "        [-0.3060],\n",
       "        [-0.3049],\n",
       "        [-0.4289],\n",
       "        [-0.3721],\n",
       "        [-0.3775],\n",
       "        [-0.3511],\n",
       "        [-0.2775],\n",
       "        [-0.2847],\n",
       "        [-0.3531],\n",
       "        [-0.3280],\n",
       "        [-0.3367],\n",
       "        [-0.1862],\n",
       "        [-0.1411],\n",
       "        [-0.1245],\n",
       "        [-0.2048],\n",
       "        [-0.2534],\n",
       "        [-0.2166],\n",
       "        [-0.3445],\n",
       "        [-0.3033],\n",
       "        [-0.3129],\n",
       "        [-0.3141],\n",
       "        [-0.2964],\n",
       "        [-0.4750],\n",
       "        [-0.5835],\n",
       "        [-0.5606],\n",
       "        [-0.6789],\n",
       "        [-0.7588],\n",
       "        [-0.6944],\n",
       "        [-0.6445],\n",
       "        [-0.7954],\n",
       "        [-0.7272],\n",
       "        [-0.7581],\n",
       "        [-0.8515],\n",
       "        [-0.7853],\n",
       "        [-0.6604],\n",
       "        [-0.6681],\n",
       "        [-0.7365],\n",
       "        [-0.7790],\n",
       "        [-0.9235],\n",
       "        [-0.9979],\n",
       "        [-1.1077],\n",
       "        [-1.1218],\n",
       "        [-1.0886],\n",
       "        [-0.9590],\n",
       "        [-1.0844],\n",
       "        [-1.0087],\n",
       "        [-1.0517],\n",
       "        [-1.1115],\n",
       "        [-1.1794],\n",
       "        [-1.0329],\n",
       "        [-1.0146],\n",
       "        [-0.9565],\n",
       "        [-1.0204],\n",
       "        [-1.1531],\n",
       "        [-1.1378],\n",
       "        [-1.1319],\n",
       "        [-1.0284],\n",
       "        [-1.0776],\n",
       "        [-1.0531],\n",
       "        [-1.1420],\n",
       "        [-1.2700],\n",
       "        [-1.1049],\n",
       "        [-1.0362],\n",
       "        [-1.0051],\n",
       "        [-1.0071],\n",
       "        [-0.9586],\n",
       "        [-0.9693],\n",
       "        [-0.8031],\n",
       "        [-0.8518],\n",
       "        [-0.9806],\n",
       "        [-0.9085],\n",
       "        [-0.9114],\n",
       "        [-0.8807],\n",
       "        [-0.8867],\n",
       "        [-0.9711],\n",
       "        [-0.9430],\n",
       "        [-1.0141],\n",
       "        [-0.9817],\n",
       "        [-0.9896],\n",
       "        [-0.9904],\n",
       "        [-0.9809],\n",
       "        [-1.0156],\n",
       "        [-1.0677],\n",
       "        [-1.0189],\n",
       "        [-0.9915],\n",
       "        [-0.9996],\n",
       "        [-1.0890],\n",
       "        [-1.1876],\n",
       "        [-1.1156],\n",
       "        [-1.1849],\n",
       "        [-1.1378],\n",
       "        [-1.1994],\n",
       "        [-1.2280],\n",
       "        [-1.0622],\n",
       "        [-0.9549],\n",
       "        [-1.0668],\n",
       "        [-1.0526],\n",
       "        [-1.1429],\n",
       "        [-1.0192],\n",
       "        [-1.0685],\n",
       "        [-0.9825],\n",
       "        [-0.9880],\n",
       "        [-0.9763],\n",
       "        [-1.0247],\n",
       "        [-1.0628],\n",
       "        [-1.1173],\n",
       "        [-1.1093],\n",
       "        [-1.1249],\n",
       "        [-1.0870],\n",
       "        [-0.9612],\n",
       "        [-0.9748],\n",
       "        [-0.7523],\n",
       "        [-0.6610],\n",
       "        [-0.6594],\n",
       "        [-0.6770],\n",
       "        [-0.7834],\n",
       "        [-0.7299],\n",
       "        [-0.6798],\n",
       "        [-0.8622],\n",
       "        [-0.7891],\n",
       "        [-0.8451],\n",
       "        [-0.7751],\n",
       "        [-0.8333],\n",
       "        [-1.0700],\n",
       "        [-0.9488],\n",
       "        [-0.9858],\n",
       "        [-0.8884],\n",
       "        [-0.8073],\n",
       "        [-0.7597],\n",
       "        [-0.7846],\n",
       "        [-0.7816],\n",
       "        [-0.7498],\n",
       "        [-0.8880],\n",
       "        [-0.8738],\n",
       "        [-0.8719],\n",
       "        [-0.8466],\n",
       "        [-0.9415],\n",
       "        [-0.9820],\n",
       "        [-1.0622],\n",
       "        [-1.1904],\n",
       "        [-1.1758],\n",
       "        [-1.2015],\n",
       "        [-1.2723],\n",
       "        [-1.1647],\n",
       "        [-1.0702],\n",
       "        [-0.9500],\n",
       "        [-0.8426],\n",
       "        [-0.8307],\n",
       "        [-0.8402],\n",
       "        [-0.8066],\n",
       "        [-0.8217],\n",
       "        [-0.9167],\n",
       "        [-0.8412],\n",
       "        [-0.8892],\n",
       "        [-0.7937],\n",
       "        [-0.7760],\n",
       "        [-0.7320],\n",
       "        [-0.6499],\n",
       "        [-0.7449],\n",
       "        [-0.8471],\n",
       "        [-0.8389],\n",
       "        [-0.9201],\n",
       "        [-0.9125],\n",
       "        [-0.8855],\n",
       "        [-0.7608],\n",
       "        [-0.7114],\n",
       "        [-0.8969],\n",
       "        [-0.8215],\n",
       "        [-0.8210],\n",
       "        [-0.7644],\n",
       "        [-0.8320],\n",
       "        [-0.8081],\n",
       "        [-0.8839],\n",
       "        [-0.7633],\n",
       "        [-0.8555],\n",
       "        [-0.8890],\n",
       "        [-0.9208],\n",
       "        [-0.9362],\n",
       "        [-1.0123],\n",
       "        [-0.8405],\n",
       "        [-0.8533],\n",
       "        [-0.7299],\n",
       "        [-0.8493],\n",
       "        [-0.8613],\n",
       "        [-0.9109],\n",
       "        [-0.9356],\n",
       "        [-0.9844],\n",
       "        [-1.0965],\n",
       "        [-1.0322],\n",
       "        [-0.8982],\n",
       "        [-0.9745],\n",
       "        [-0.9887],\n",
       "        [-0.8790],\n",
       "        [-0.9602],\n",
       "        [-0.9782],\n",
       "        [-1.1496],\n",
       "        [-1.2672],\n",
       "        [-1.3839],\n",
       "        [-1.3061],\n",
       "        [-1.3452],\n",
       "        [-1.2695],\n",
       "        [-1.2309],\n",
       "        [-1.2188],\n",
       "        [-1.2752],\n",
       "        [-1.3497],\n",
       "        [-1.3420],\n",
       "        [-1.2852],\n",
       "        [-1.2619],\n",
       "        [-1.0820],\n",
       "        [-1.0522],\n",
       "        [-0.9877],\n",
       "        [-0.9320],\n",
       "        [-0.9033],\n",
       "        [-0.7488],\n",
       "        [-0.7474],\n",
       "        [-0.8449],\n",
       "        [-0.8483],\n",
       "        [-0.8782],\n",
       "        [-0.8469],\n",
       "        [-0.7751],\n",
       "        [-0.7423],\n",
       "        [-0.7907],\n",
       "        [-0.7839],\n",
       "        [-0.8133],\n",
       "        [-0.8805],\n",
       "        [-0.9138],\n",
       "        [-0.9958],\n",
       "        [-0.9473],\n",
       "        [-1.0667],\n",
       "        [-0.9942],\n",
       "        [-0.8750],\n",
       "        [-1.0161],\n",
       "        [-1.0578],\n",
       "        [-1.0444],\n",
       "        [-0.9855],\n",
       "        [-0.9300],\n",
       "        [-0.8426],\n",
       "        [-0.9368],\n",
       "        [-0.9279],\n",
       "        [-0.8567],\n",
       "        [-0.8257],\n",
       "        [-0.7324],\n",
       "        [-0.6660],\n",
       "        [-0.7537],\n",
       "        [-0.8578],\n",
       "        [-0.8573],\n",
       "        [-0.8994],\n",
       "        [-1.0277],\n",
       "        [-1.0669],\n",
       "        [-1.1599],\n",
       "        [-1.1574],\n",
       "        [-1.1472],\n",
       "        [-1.1526],\n",
       "        [-1.2112],\n",
       "        [-1.1127],\n",
       "        [-1.1715],\n",
       "        [-1.2272],\n",
       "        [-1.2851],\n",
       "        [-1.2699],\n",
       "        [-1.3450],\n",
       "        [-1.3785],\n",
       "        [-1.4040],\n",
       "        [-1.3801],\n",
       "        [-1.3561],\n",
       "        [-1.3644],\n",
       "        [-1.3230],\n",
       "        [-1.1879],\n",
       "        [-1.2398],\n",
       "        [-1.3050],\n",
       "        [-1.3331],\n",
       "        [-1.3073],\n",
       "        [-1.3900],\n",
       "        [-1.3993],\n",
       "        [-1.3609],\n",
       "        [-1.3725],\n",
       "        [-1.4119],\n",
       "        [-1.5400],\n",
       "        [-1.5157],\n",
       "        [-1.4895],\n",
       "        [-1.5722],\n",
       "        [-1.6019],\n",
       "        [-1.6360],\n",
       "        [-1.5905],\n",
       "        [-1.5751],\n",
       "        [-1.6010],\n",
       "        [-1.6207],\n",
       "        [-1.5699],\n",
       "        [-1.6563],\n",
       "        [-1.6596]], grad_fn=<NativeBatchNormBackward0>)"
      ]
     },
     "execution_count": 65,
     "metadata": {},
     "output_type": "execute_result"
    }
   ],
   "source": [
    "pre"
   ]
  },
  {
   "cell_type": "code",
   "execution_count": 59,
   "id": "e2aacd3f",
   "metadata": {},
   "outputs": [
    {
     "ename": "RuntimeError",
     "evalue": "running_mean should contain 601 elements not 10",
     "output_type": "error",
     "traceback": [
      "\u001b[1;31m---------------------------------------------------------------------------\u001b[0m",
      "\u001b[1;31mRuntimeError\u001b[0m                              Traceback (most recent call last)",
      "\u001b[1;32m<ipython-input-59-bb4b053e1663>\u001b[0m in \u001b[0;36m<module>\u001b[1;34m\u001b[0m\n\u001b[0;32m      8\u001b[0m         \u001b[0mbatch_y\u001b[0m \u001b[1;33m=\u001b[0m \u001b[0my_torch\u001b[0m\u001b[1;33m[\u001b[0m\u001b[0mstart\u001b[0m\u001b[1;33m:\u001b[0m\u001b[0mend\u001b[0m\u001b[1;33m,\u001b[0m \u001b[1;33m:\u001b[0m\u001b[1;33m,\u001b[0m\u001b[1;33m:\u001b[0m\u001b[1;33m]\u001b[0m\u001b[1;33m\u001b[0m\u001b[1;33m\u001b[0m\u001b[0m\n\u001b[0;32m      9\u001b[0m \u001b[1;33m\u001b[0m\u001b[0m\n\u001b[1;32m---> 10\u001b[1;33m         \u001b[0mpre\u001b[0m \u001b[1;33m=\u001b[0m \u001b[0mmodel_car\u001b[0m\u001b[1;33m(\u001b[0m\u001b[0mbatch_x\u001b[0m\u001b[1;33m)\u001b[0m\u001b[1;33m\u001b[0m\u001b[1;33m\u001b[0m\u001b[0m\n\u001b[0m\u001b[0;32m     11\u001b[0m \u001b[1;33m\u001b[0m\u001b[0m\n\u001b[0;32m     12\u001b[0m         \u001b[0mmse\u001b[0m \u001b[1;33m=\u001b[0m \u001b[0mmse_loss\u001b[0m\u001b[1;33m(\u001b[0m\u001b[0mpre\u001b[0m\u001b[1;33m,\u001b[0m\u001b[0mbatch_y\u001b[0m\u001b[1;33m.\u001b[0m\u001b[0mT\u001b[0m\u001b[1;33m)\u001b[0m\u001b[1;33m\u001b[0m\u001b[1;33m\u001b[0m\u001b[0m\n",
      "\u001b[1;32m~\\AppData\\Local\\anaconda3\\envs\\bifidelity_2\\lib\\site-packages\\torch\\nn\\modules\\module.py\u001b[0m in \u001b[0;36m_call_impl\u001b[1;34m(self, *input, **kwargs)\u001b[0m\n\u001b[0;32m   1100\u001b[0m         if not (self._backward_hooks or self._forward_hooks or self._forward_pre_hooks or _global_backward_hooks\n\u001b[0;32m   1101\u001b[0m                 or _global_forward_hooks or _global_forward_pre_hooks):\n\u001b[1;32m-> 1102\u001b[1;33m             \u001b[1;32mreturn\u001b[0m \u001b[0mforward_call\u001b[0m\u001b[1;33m(\u001b[0m\u001b[1;33m*\u001b[0m\u001b[0minput\u001b[0m\u001b[1;33m,\u001b[0m \u001b[1;33m**\u001b[0m\u001b[0mkwargs\u001b[0m\u001b[1;33m)\u001b[0m\u001b[1;33m\u001b[0m\u001b[1;33m\u001b[0m\u001b[0m\n\u001b[0m\u001b[0;32m   1103\u001b[0m         \u001b[1;31m# Do not call functions when jit is used\u001b[0m\u001b[1;33m\u001b[0m\u001b[1;33m\u001b[0m\u001b[1;33m\u001b[0m\u001b[0m\n\u001b[0;32m   1104\u001b[0m         \u001b[0mfull_backward_hooks\u001b[0m\u001b[1;33m,\u001b[0m \u001b[0mnon_full_backward_hooks\u001b[0m \u001b[1;33m=\u001b[0m \u001b[1;33m[\u001b[0m\u001b[1;33m]\u001b[0m\u001b[1;33m,\u001b[0m \u001b[1;33m[\u001b[0m\u001b[1;33m]\u001b[0m\u001b[1;33m\u001b[0m\u001b[1;33m\u001b[0m\u001b[0m\n",
      "\u001b[1;32m~\\AppData\\Local\\anaconda3\\envs\\bifidelity_2\\lib\\site-packages\\torch\\nn\\modules\\container.py\u001b[0m in \u001b[0;36mforward\u001b[1;34m(self, input)\u001b[0m\n\u001b[0;32m    139\u001b[0m     \u001b[1;32mdef\u001b[0m \u001b[0mforward\u001b[0m\u001b[1;33m(\u001b[0m\u001b[0mself\u001b[0m\u001b[1;33m,\u001b[0m \u001b[0minput\u001b[0m\u001b[1;33m)\u001b[0m\u001b[1;33m:\u001b[0m\u001b[1;33m\u001b[0m\u001b[1;33m\u001b[0m\u001b[0m\n\u001b[0;32m    140\u001b[0m         \u001b[1;32mfor\u001b[0m \u001b[0mmodule\u001b[0m \u001b[1;32min\u001b[0m \u001b[0mself\u001b[0m\u001b[1;33m:\u001b[0m\u001b[1;33m\u001b[0m\u001b[1;33m\u001b[0m\u001b[0m\n\u001b[1;32m--> 141\u001b[1;33m             \u001b[0minput\u001b[0m \u001b[1;33m=\u001b[0m \u001b[0mmodule\u001b[0m\u001b[1;33m(\u001b[0m\u001b[0minput\u001b[0m\u001b[1;33m)\u001b[0m\u001b[1;33m\u001b[0m\u001b[1;33m\u001b[0m\u001b[0m\n\u001b[0m\u001b[0;32m    142\u001b[0m         \u001b[1;32mreturn\u001b[0m \u001b[0minput\u001b[0m\u001b[1;33m\u001b[0m\u001b[1;33m\u001b[0m\u001b[0m\n\u001b[0;32m    143\u001b[0m \u001b[1;33m\u001b[0m\u001b[0m\n",
      "\u001b[1;32m~\\AppData\\Local\\anaconda3\\envs\\bifidelity_2\\lib\\site-packages\\torch\\nn\\modules\\module.py\u001b[0m in \u001b[0;36m_call_impl\u001b[1;34m(self, *input, **kwargs)\u001b[0m\n\u001b[0;32m   1100\u001b[0m         if not (self._backward_hooks or self._forward_hooks or self._forward_pre_hooks or _global_backward_hooks\n\u001b[0;32m   1101\u001b[0m                 or _global_forward_hooks or _global_forward_pre_hooks):\n\u001b[1;32m-> 1102\u001b[1;33m             \u001b[1;32mreturn\u001b[0m \u001b[0mforward_call\u001b[0m\u001b[1;33m(\u001b[0m\u001b[1;33m*\u001b[0m\u001b[0minput\u001b[0m\u001b[1;33m,\u001b[0m \u001b[1;33m**\u001b[0m\u001b[0mkwargs\u001b[0m\u001b[1;33m)\u001b[0m\u001b[1;33m\u001b[0m\u001b[1;33m\u001b[0m\u001b[0m\n\u001b[0m\u001b[0;32m   1103\u001b[0m         \u001b[1;31m# Do not call functions when jit is used\u001b[0m\u001b[1;33m\u001b[0m\u001b[1;33m\u001b[0m\u001b[1;33m\u001b[0m\u001b[0m\n\u001b[0;32m   1104\u001b[0m         \u001b[0mfull_backward_hooks\u001b[0m\u001b[1;33m,\u001b[0m \u001b[0mnon_full_backward_hooks\u001b[0m \u001b[1;33m=\u001b[0m \u001b[1;33m[\u001b[0m\u001b[1;33m]\u001b[0m\u001b[1;33m,\u001b[0m \u001b[1;33m[\u001b[0m\u001b[1;33m]\u001b[0m\u001b[1;33m\u001b[0m\u001b[1;33m\u001b[0m\u001b[0m\n",
      "\u001b[1;32m~\\AppData\\Local\\anaconda3\\envs\\bifidelity_2\\lib\\site-packages\\torch\\nn\\modules\\batchnorm.py\u001b[0m in \u001b[0;36mforward\u001b[1;34m(self, input)\u001b[0m\n\u001b[0;32m    177\u001b[0m             \u001b[0mbn_training\u001b[0m\u001b[1;33m,\u001b[0m\u001b[1;33m\u001b[0m\u001b[1;33m\u001b[0m\u001b[0m\n\u001b[0;32m    178\u001b[0m             \u001b[0mexponential_average_factor\u001b[0m\u001b[1;33m,\u001b[0m\u001b[1;33m\u001b[0m\u001b[1;33m\u001b[0m\u001b[0m\n\u001b[1;32m--> 179\u001b[1;33m             \u001b[0mself\u001b[0m\u001b[1;33m.\u001b[0m\u001b[0meps\u001b[0m\u001b[1;33m,\u001b[0m\u001b[1;33m\u001b[0m\u001b[1;33m\u001b[0m\u001b[0m\n\u001b[0m\u001b[0;32m    180\u001b[0m         )\n\u001b[0;32m    181\u001b[0m \u001b[1;33m\u001b[0m\u001b[0m\n",
      "\u001b[1;32m~\\AppData\\Local\\anaconda3\\envs\\bifidelity_2\\lib\\site-packages\\torch\\nn\\functional.py\u001b[0m in \u001b[0;36mbatch_norm\u001b[1;34m(input, running_mean, running_var, weight, bias, training, momentum, eps)\u001b[0m\n\u001b[0;32m   2281\u001b[0m \u001b[1;33m\u001b[0m\u001b[0m\n\u001b[0;32m   2282\u001b[0m     return torch.batch_norm(\n\u001b[1;32m-> 2283\u001b[1;33m         \u001b[0minput\u001b[0m\u001b[1;33m,\u001b[0m \u001b[0mweight\u001b[0m\u001b[1;33m,\u001b[0m \u001b[0mbias\u001b[0m\u001b[1;33m,\u001b[0m \u001b[0mrunning_mean\u001b[0m\u001b[1;33m,\u001b[0m \u001b[0mrunning_var\u001b[0m\u001b[1;33m,\u001b[0m \u001b[0mtraining\u001b[0m\u001b[1;33m,\u001b[0m \u001b[0mmomentum\u001b[0m\u001b[1;33m,\u001b[0m \u001b[0meps\u001b[0m\u001b[1;33m,\u001b[0m \u001b[0mtorch\u001b[0m\u001b[1;33m.\u001b[0m\u001b[0mbackends\u001b[0m\u001b[1;33m.\u001b[0m\u001b[0mcudnn\u001b[0m\u001b[1;33m.\u001b[0m\u001b[0menabled\u001b[0m\u001b[1;33m\u001b[0m\u001b[1;33m\u001b[0m\u001b[0m\n\u001b[0m\u001b[0;32m   2284\u001b[0m     )\n\u001b[0;32m   2285\u001b[0m \u001b[1;33m\u001b[0m\u001b[0m\n",
      "\u001b[1;31mRuntimeError\u001b[0m: running_mean should contain 601 elements not 10"
     ]
    }
   ],
   "source": [
    "rel_mse_list=[]\n",
    "mse_list=[]\n",
    "for epoch in range(1000):\n",
    "    for start in range(1, 1000, 25):\n",
    "    \n",
    "        end=min(start + 25, 1000)\n",
    "        batch_x = x_torch[start:end, :,:]\n",
    "        batch_y = y_torch[start:end, :,:]\n",
    "          \n",
    "        pre = model_car(batch_x)\n",
    "\n",
    "        mse = mse_loss(pre,batch_y.T)\n",
    "        lk=kl_loss(model_car)\n",
    "        cost = mse + kl_weight*lk \n",
    "        optimizer.zero_grad()\n",
    "        cost.backward()\n",
    "        optimizer.step()\n",
    "\n",
    "        rel_mse_list.append(mean_rel_mse)\n",
    "        mse_list.append(mean_mse)\n",
    "    \n",
    "    \n",
    "print('- MSE : %2.5f, KL : %2.5f' % (mse.item(), lk.item()))"
   ]
  },
  {
   "cell_type": "code",
   "execution_count": 45,
   "id": "da3cb7f7",
   "metadata": {},
   "outputs": [
    {
     "data": {
      "text/plain": [
       "tensor([1.3171], grad_fn=<AddBackward0>)"
      ]
     },
     "execution_count": 45,
     "metadata": {},
     "output_type": "execute_result"
    }
   ],
   "source": [
    "cost\n"
   ]
  },
  {
   "cell_type": "code",
   "execution_count": 49,
   "id": "47c18257",
   "metadata": {},
   "outputs": [
    {
     "data": {
      "text/plain": [
       "torch.Size([1000, 601, 2])"
      ]
     },
     "execution_count": 49,
     "metadata": {},
     "output_type": "execute_result"
    }
   ],
   "source": [
    "x_torch.shape"
   ]
  },
  {
   "cell_type": "code",
   "execution_count": 50,
   "id": "4489370c",
   "metadata": {},
   "outputs": [
    {
     "data": {
      "text/plain": [
       "torch.Size([1000, 1, 601])"
      ]
     },
     "execution_count": 50,
     "metadata": {},
     "output_type": "execute_result"
    }
   ],
   "source": [
    "y_torch.shape"
   ]
  },
  {
   "cell_type": "markdown",
   "id": "23a6de31",
   "metadata": {},
   "source": [
    "### Normal NNs"
   ]
  },
  {
   "cell_type": "code",
   "execution_count": 52,
   "id": "61ff5009",
   "metadata": {},
   "outputs": [
    {
     "ename": "RuntimeError",
     "evalue": "running_mean should contain 601 elements not 10",
     "output_type": "error",
     "traceback": [
      "\u001b[1;31m---------------------------------------------------------------------------\u001b[0m",
      "\u001b[1;31mRuntimeError\u001b[0m                              Traceback (most recent call last)",
      "\u001b[1;32m<ipython-input-52-333d33639370>\u001b[0m in \u001b[0;36m<module>\u001b[1;34m\u001b[0m\n\u001b[0;32m     11\u001b[0m \u001b[1;33m\u001b[0m\u001b[0m\n\u001b[0;32m     12\u001b[0m \u001b[1;33m\u001b[0m\u001b[0m\n\u001b[1;32m---> 13\u001b[1;33m         \u001b[0mpre\u001b[0m \u001b[1;33m=\u001b[0m \u001b[0mmodel_nn\u001b[0m\u001b[1;33m(\u001b[0m\u001b[0mbatch_x\u001b[0m\u001b[1;33m)\u001b[0m\u001b[1;33m\u001b[0m\u001b[1;33m\u001b[0m\u001b[0m\n\u001b[0m\u001b[0;32m     14\u001b[0m \u001b[1;33m\u001b[0m\u001b[0m\n\u001b[0;32m     15\u001b[0m         \u001b[1;31m#print(pre)\u001b[0m\u001b[1;33m\u001b[0m\u001b[1;33m\u001b[0m\u001b[1;33m\u001b[0m\u001b[0m\n",
      "\u001b[1;32m~\\AppData\\Local\\anaconda3\\envs\\bifidelity_2\\lib\\site-packages\\torch\\nn\\modules\\module.py\u001b[0m in \u001b[0;36m_call_impl\u001b[1;34m(self, *input, **kwargs)\u001b[0m\n\u001b[0;32m   1100\u001b[0m         if not (self._backward_hooks or self._forward_hooks or self._forward_pre_hooks or _global_backward_hooks\n\u001b[0;32m   1101\u001b[0m                 or _global_forward_hooks or _global_forward_pre_hooks):\n\u001b[1;32m-> 1102\u001b[1;33m             \u001b[1;32mreturn\u001b[0m \u001b[0mforward_call\u001b[0m\u001b[1;33m(\u001b[0m\u001b[1;33m*\u001b[0m\u001b[0minput\u001b[0m\u001b[1;33m,\u001b[0m \u001b[1;33m**\u001b[0m\u001b[0mkwargs\u001b[0m\u001b[1;33m)\u001b[0m\u001b[1;33m\u001b[0m\u001b[1;33m\u001b[0m\u001b[0m\n\u001b[0m\u001b[0;32m   1103\u001b[0m         \u001b[1;31m# Do not call functions when jit is used\u001b[0m\u001b[1;33m\u001b[0m\u001b[1;33m\u001b[0m\u001b[1;33m\u001b[0m\u001b[0m\n\u001b[0;32m   1104\u001b[0m         \u001b[0mfull_backward_hooks\u001b[0m\u001b[1;33m,\u001b[0m \u001b[0mnon_full_backward_hooks\u001b[0m \u001b[1;33m=\u001b[0m \u001b[1;33m[\u001b[0m\u001b[1;33m]\u001b[0m\u001b[1;33m,\u001b[0m \u001b[1;33m[\u001b[0m\u001b[1;33m]\u001b[0m\u001b[1;33m\u001b[0m\u001b[1;33m\u001b[0m\u001b[0m\n",
      "\u001b[1;32m~\\AppData\\Local\\anaconda3\\envs\\bifidelity_2\\lib\\site-packages\\torch\\nn\\modules\\container.py\u001b[0m in \u001b[0;36mforward\u001b[1;34m(self, input)\u001b[0m\n\u001b[0;32m    139\u001b[0m     \u001b[1;32mdef\u001b[0m \u001b[0mforward\u001b[0m\u001b[1;33m(\u001b[0m\u001b[0mself\u001b[0m\u001b[1;33m,\u001b[0m \u001b[0minput\u001b[0m\u001b[1;33m)\u001b[0m\u001b[1;33m:\u001b[0m\u001b[1;33m\u001b[0m\u001b[1;33m\u001b[0m\u001b[0m\n\u001b[0;32m    140\u001b[0m         \u001b[1;32mfor\u001b[0m \u001b[0mmodule\u001b[0m \u001b[1;32min\u001b[0m \u001b[0mself\u001b[0m\u001b[1;33m:\u001b[0m\u001b[1;33m\u001b[0m\u001b[1;33m\u001b[0m\u001b[0m\n\u001b[1;32m--> 141\u001b[1;33m             \u001b[0minput\u001b[0m \u001b[1;33m=\u001b[0m \u001b[0mmodule\u001b[0m\u001b[1;33m(\u001b[0m\u001b[0minput\u001b[0m\u001b[1;33m)\u001b[0m\u001b[1;33m\u001b[0m\u001b[1;33m\u001b[0m\u001b[0m\n\u001b[0m\u001b[0;32m    142\u001b[0m         \u001b[1;32mreturn\u001b[0m \u001b[0minput\u001b[0m\u001b[1;33m\u001b[0m\u001b[1;33m\u001b[0m\u001b[0m\n\u001b[0;32m    143\u001b[0m \u001b[1;33m\u001b[0m\u001b[0m\n",
      "\u001b[1;32m~\\AppData\\Local\\anaconda3\\envs\\bifidelity_2\\lib\\site-packages\\torch\\nn\\modules\\module.py\u001b[0m in \u001b[0;36m_call_impl\u001b[1;34m(self, *input, **kwargs)\u001b[0m\n\u001b[0;32m   1100\u001b[0m         if not (self._backward_hooks or self._forward_hooks or self._forward_pre_hooks or _global_backward_hooks\n\u001b[0;32m   1101\u001b[0m                 or _global_forward_hooks or _global_forward_pre_hooks):\n\u001b[1;32m-> 1102\u001b[1;33m             \u001b[1;32mreturn\u001b[0m \u001b[0mforward_call\u001b[0m\u001b[1;33m(\u001b[0m\u001b[1;33m*\u001b[0m\u001b[0minput\u001b[0m\u001b[1;33m,\u001b[0m \u001b[1;33m**\u001b[0m\u001b[0mkwargs\u001b[0m\u001b[1;33m)\u001b[0m\u001b[1;33m\u001b[0m\u001b[1;33m\u001b[0m\u001b[0m\n\u001b[0m\u001b[0;32m   1103\u001b[0m         \u001b[1;31m# Do not call functions when jit is used\u001b[0m\u001b[1;33m\u001b[0m\u001b[1;33m\u001b[0m\u001b[1;33m\u001b[0m\u001b[0m\n\u001b[0;32m   1104\u001b[0m         \u001b[0mfull_backward_hooks\u001b[0m\u001b[1;33m,\u001b[0m \u001b[0mnon_full_backward_hooks\u001b[0m \u001b[1;33m=\u001b[0m \u001b[1;33m[\u001b[0m\u001b[1;33m]\u001b[0m\u001b[1;33m,\u001b[0m \u001b[1;33m[\u001b[0m\u001b[1;33m]\u001b[0m\u001b[1;33m\u001b[0m\u001b[1;33m\u001b[0m\u001b[0m\n",
      "\u001b[1;32m~\\AppData\\Local\\anaconda3\\envs\\bifidelity_2\\lib\\site-packages\\torch\\nn\\modules\\batchnorm.py\u001b[0m in \u001b[0;36mforward\u001b[1;34m(self, input)\u001b[0m\n\u001b[0;32m    177\u001b[0m             \u001b[0mbn_training\u001b[0m\u001b[1;33m,\u001b[0m\u001b[1;33m\u001b[0m\u001b[1;33m\u001b[0m\u001b[0m\n\u001b[0;32m    178\u001b[0m             \u001b[0mexponential_average_factor\u001b[0m\u001b[1;33m,\u001b[0m\u001b[1;33m\u001b[0m\u001b[1;33m\u001b[0m\u001b[0m\n\u001b[1;32m--> 179\u001b[1;33m             \u001b[0mself\u001b[0m\u001b[1;33m.\u001b[0m\u001b[0meps\u001b[0m\u001b[1;33m,\u001b[0m\u001b[1;33m\u001b[0m\u001b[1;33m\u001b[0m\u001b[0m\n\u001b[0m\u001b[0;32m    180\u001b[0m         )\n\u001b[0;32m    181\u001b[0m \u001b[1;33m\u001b[0m\u001b[0m\n",
      "\u001b[1;32m~\\AppData\\Local\\anaconda3\\envs\\bifidelity_2\\lib\\site-packages\\torch\\nn\\functional.py\u001b[0m in \u001b[0;36mbatch_norm\u001b[1;34m(input, running_mean, running_var, weight, bias, training, momentum, eps)\u001b[0m\n\u001b[0;32m   2281\u001b[0m \u001b[1;33m\u001b[0m\u001b[0m\n\u001b[0;32m   2282\u001b[0m     return torch.batch_norm(\n\u001b[1;32m-> 2283\u001b[1;33m         \u001b[0minput\u001b[0m\u001b[1;33m,\u001b[0m \u001b[0mweight\u001b[0m\u001b[1;33m,\u001b[0m \u001b[0mbias\u001b[0m\u001b[1;33m,\u001b[0m \u001b[0mrunning_mean\u001b[0m\u001b[1;33m,\u001b[0m \u001b[0mrunning_var\u001b[0m\u001b[1;33m,\u001b[0m \u001b[0mtraining\u001b[0m\u001b[1;33m,\u001b[0m \u001b[0mmomentum\u001b[0m\u001b[1;33m,\u001b[0m \u001b[0meps\u001b[0m\u001b[1;33m,\u001b[0m \u001b[0mtorch\u001b[0m\u001b[1;33m.\u001b[0m\u001b[0mbackends\u001b[0m\u001b[1;33m.\u001b[0m\u001b[0mcudnn\u001b[0m\u001b[1;33m.\u001b[0m\u001b[0menabled\u001b[0m\u001b[1;33m\u001b[0m\u001b[1;33m\u001b[0m\u001b[0m\n\u001b[0m\u001b[0;32m   2284\u001b[0m     )\n\u001b[0;32m   2285\u001b[0m \u001b[1;33m\u001b[0m\u001b[0m\n",
      "\u001b[1;31mRuntimeError\u001b[0m: running_mean should contain 601 elements not 10"
     ]
    }
   ],
   "source": [
    "rel_mse_list=[]\n",
    "mse_list=[]\n",
    "for epoch in range(1000):\n",
    "    mse_list_epochs=[]\n",
    "    rel_mse_list_epochs=[]\n",
    "    kl_loss_epochs=[]\n",
    "    for start in range(1, 1000, 25):\n",
    "        end=min(start + 25, 1000)\n",
    "        batch_x = x_torch[start:end, :,:]\n",
    "        batch_y = y_torch[start:end, :,:]\n",
    "        \n",
    "        \n",
    "        pre = model_nn(batch_x)\n",
    "            \n",
    "        #print(pre)\n",
    "        #nump_pre=pre.detach().numpy()\n",
    "        #print(nump_pre)\n",
    "        #nump_target=(y_torch[step-1,:,:].T).detach().numpy()\n",
    "\n",
    "        mse = mse_loss(pre,y_torch[start-1,:,:].T)\n",
    "\n",
    "        optimizer.zero_grad()\n",
    "        cost.backward()\n",
    "        optimizer.step()\n",
    "            \n",
    "        mse_list.append(mse)\n",
    "    \n",
    "    \n",
    "print('- MSE : %2.5f' % (mse.item()))"
   ]
  },
  {
   "cell_type": "code",
   "execution_count": null,
   "id": "dffce41b-e3c0-4834-8d59-f465f4b87649",
   "metadata": {},
   "outputs": [],
   "source": [
    "kl"
   ]
  },
  {
   "cell_type": "code",
   "execution_count": 27,
   "id": "7a11dddc-c7e5-4534-b078-67c78ef43218",
   "metadata": {},
   "outputs": [
    {
     "data": {
      "text/plain": [
       "1.3154565048217775"
      ]
     },
     "execution_count": 27,
     "metadata": {},
     "output_type": "execute_result"
    }
   ],
   "source": [
    "mse_list[-1]"
   ]
  },
  {
   "cell_type": "code",
   "execution_count": 28,
   "id": "6c6939e2-370d-4c1f-a16b-744de10053f6",
   "metadata": {},
   "outputs": [
    {
     "data": {
      "text/plain": [
       "2.0068487548828124"
      ]
     },
     "execution_count": 28,
     "metadata": {},
     "output_type": "execute_result"
    }
   ],
   "source": [
    "min(rel_mse_list)"
   ]
  },
  {
   "cell_type": "code",
   "execution_count": 29,
   "id": "b69f9a1b-87e1-4644-a4ee-a10aa61e66db",
   "metadata": {},
   "outputs": [
    {
     "data": {
      "text/plain": [
       "1.2753806447982787"
      ]
     },
     "execution_count": 29,
     "metadata": {},
     "output_type": "execute_result"
    }
   ],
   "source": [
    "min(mse_list)"
   ]
  },
  {
   "cell_type": "code",
   "execution_count": 30,
   "id": "f731a2cf-b570-4007-9376-27c15469234b",
   "metadata": {},
   "outputs": [],
   "source": [
    "num_layers = len(list(model_car.children()))\n",
    "model_info = {\n",
    "    'num_layers': num_layers,\n",
    "    'units_per_layer': [1,10,1],\n",
    "    'mse_loss': mse_loss,\n",
    "    'mse_list': mse_list,\n",
    "    'rel_mse_list': rel_mse_list,\n",
    "    'rel_mse_loss': rel_mse,\n",
    "    'min_loss': min(mse_list),\n",
    "    'min_rel_mse': min(rel_mse_list),\n",
    "    'kl_divergence': kl,\n",
    "    'kl_weight': kl_weight,\n",
    "    'learning_rate': lr\n",
    "}"
   ]
  },
  {
   "cell_type": "code",
   "execution_count": 31,
   "id": "5a5beaa5-fb4a-4911-a1ad-f4ac5e854d28",
   "metadata": {},
   "outputs": [
    {
     "data": {
      "text/plain": [
       "'C:\\\\Users\\\\ad3389\\\\OneDrive - Northern Arizona University\\\\Desktop\\\\BNN_Multi_fidelity_TL\\\\logs'"
      ]
     },
     "execution_count": 31,
     "metadata": {},
     "output_type": "execute_result"
    }
   ],
   "source": [
    "direct"
   ]
  },
  {
   "cell_type": "code",
   "execution_count": 32,
   "id": "0d2cb046-f0c4-4b1e-bf2f-f5fb94b0d3da",
   "metadata": {},
   "outputs": [],
   "source": [
    "def log_information_with_loss_list(log_file, model_info,direct):\n",
    "    total_path=os.path.join(direct,log_file)\n",
    "    \n",
    "    with open(total_path, 'a') as file:\n",
    "        \n",
    "        file.write('\\n' * 5)\n",
    "                \n",
    "        file.write(f\"Number of Layers: {model_info['num_layers']}\\n\")\n",
    "        file.write(f\"Units in Each Layer: {model_info['units_per_layer']}\\n\")\n",
    "        file.write(f\"mse_loss: {model_info['mse_loss']}\\n\")\n",
    "        file.write(f\"rel_mse_loss: {model_info['rel_mse_loss']}\\n\")\n",
    "        file.write(f\"Minimum Loss: {model_info['min_loss']}\\n\")\n",
    "        file.write(f\"min_rel_mse: {model_info['min_rel_mse']}\\n\")\n",
    "        file.write(f\"KL Divergence: {model_info['kl_divergence']}\\n\")\n",
    "        file.write(f\"KL Weight: {model_info['kl_weight']}\\n\")\n",
    "        file.write(f\"Learning Rate: {model_info['learning_rate']}\\n\\n\")\n",
    "        file.write(f\"mse_list: {model_info['mse_list']}\\n\")\n",
    "        file.write(f\"rel_mse_list: {model_info['rel_mse_list']}\\n\")\n",
    "\n",
    "        print(\"Log file created successfully.\")\n",
    "\n"
   ]
  },
  {
   "cell_type": "code",
   "execution_count": 33,
   "id": "5dcfe8dc-728a-4442-ba0c-9c1df5c973dd",
   "metadata": {},
   "outputs": [],
   "source": [
    "def log_information(log_file, model_info,direct):\n",
    "    \n",
    "    total_path=os.path.join(direct,log_file)\n",
    "    \n",
    "    with open(total_path, 'a') as file:\n",
    "                \n",
    "        file.write(f\"Number of Layers: {model_info['num_layers']}\\n\")\n",
    "        file.write(f\"Units in Each Layer: {model_info['units_per_layer']}\\n\")\n",
    "        file.write(f\"mse_loss: {model_info['mse_loss']}\\n\")\n",
    "        file.write(f\"rel_mse_loss: {model_info['rel_mse_loss']}\\n\")\n",
    "        file.write(f\"Minimum Loss: {model_info['min_loss']}\\n\")\n",
    "        file.write(f\"min_rel_mse: {model_info['min_rel_mse']}\\n\")\n",
    "        file.write(f\"KL Divergence: {model_info['kl_divergence']}\\n\")\n",
    "        file.write(f\"KL Weight: {model_info['kl_weight']}\\n\")\n",
    "        file.write(f\"Learning Rate: {model_info['learning_rate']}\\n\\n\")\n",
    "\n",
    "\n",
    "        print(\"Log file created successfully.\")\n",
    "\n"
   ]
  },
  {
   "cell_type": "code",
   "execution_count": 34,
   "id": "513876c1-6aef-4486-9bad-469c261a66b4",
   "metadata": {},
   "outputs": [
    {
     "name": "stdout",
     "output_type": "stream",
     "text": [
      "Log file created successfully.\n"
     ]
    }
   ],
   "source": [
    "log_information_with_loss_list('log_{}_loss_list.txt'.format(today_date), model_info,direct)"
   ]
  },
  {
   "cell_type": "code",
   "execution_count": 35,
   "id": "3482c986-8f91-4a3c-8edf-8288db83a228",
   "metadata": {},
   "outputs": [
    {
     "name": "stdout",
     "output_type": "stream",
     "text": [
      "Log file created successfully.\n"
     ]
    }
   ],
   "source": [
    "log_information('log_{}.txt'.format(today_date), model_info,direct)"
   ]
  },
  {
   "cell_type": "code",
   "execution_count": 17,
   "id": "2802e3a2-7e6b-428f-a1de-3743ff4fd919",
   "metadata": {},
   "outputs": [
    {
     "data": {
      "image/png": "[encoded data removed]",
      "text/plain": [
       "<Figure size 640x480 with 1 Axes>"
      ]
     },
     "metadata": {},
     "output_type": "display_data"
    }
   ],
   "source": [
    "x = torch.linspace(-2, 2, 500)\n",
    "y = x.pow(5) -10* x.pow(1) + 2*torch.rand(x.size())\n",
    "x = torch.unsqueeze(x, dim=1)\n",
    "y = torch.unsqueeze(y, dim=1)\n",
    "\n",
    "plt.scatter(x.data.numpy(), y.data.numpy())\n",
    "plt.show()"
   ]
  },
  {
   "cell_type": "code",
   "execution_count": 18,
   "id": "d53f1158-fbd8-4808-9834-92cbe04072f6",
   "metadata": {},
   "outputs": [
    {
     "data": {
      "text/plain": [
       "torch.Size([500, 1])"
      ]
     },
     "execution_count": 18,
     "metadata": {},
     "output_type": "execute_result"
    }
   ],
   "source": [
    "x.shape"
   ]
  },
  {
   "cell_type": "code",
   "execution_count": 19,
   "id": "f3ad7f7c-4e22-4ca8-8fbf-28fd3e579c1f",
   "metadata": {},
   "outputs": [
    {
     "data": {
      "text/plain": [
       "torch.Size([500, 1])"
      ]
     },
     "execution_count": 19,
     "metadata": {},
     "output_type": "execute_result"
    }
   ],
   "source": [
    "y.shape"
   ]
  },
  {
   "cell_type": "code",
   "execution_count": null,
   "id": "7f0ee6b4-28e7-4bf2-a0e6-6e17fe8fafa5",
   "metadata": {},
   "outputs": [],
   "source": []
  }
 ],
 "metadata": {
  "kernelspec": {
   "display_name": "Python 3 (ipykernel)",
   "language": "python",
   "name": "python3"
  },
  "language_info": {
   "codemirror_mode": {
    "name": "ipython",
    "version": 3
   },
   "file_extension": ".py",
   "mimetype": "text/x-python",
   "name": "python",
   "nbconvert_exporter": "python",
   "pygments_lexer": "ipython3",
   "version": "3.9.18"
  }
 },
 "nbformat": 4,
 "nbformat_minor": 5
}
